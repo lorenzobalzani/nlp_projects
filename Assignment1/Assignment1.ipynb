{
  "cells": [
    {
      "cell_type": "markdown",
      "metadata": {
        "id": "view-in-github",
        "colab_type": "text"
      },
      "source": [
        "<a href=\"https://colab.research.google.com/github/lorenzobalzani/nlp_projects/blob/master/Assignment1/Assignment1.ipynb\" target=\"_parent\"><img src=\"https://colab.research.google.com/assets/colab-badge.svg\" alt=\"Open In Colab\"/></a>"
      ]
    },
    {
      "cell_type": "markdown",
      "source": [
        "# NLP - Assignment 1\n",
        "\n",
        "Lorenzo Balzani, Alessia Deana, Thomas Guizzetti\n",
        "\n",
        "lorenzo.balzani@studio.unibo.it, alessia.deana@studio.unibo.it, thomas.guizzetti@studio.unibo.it"
      ],
      "metadata": {
        "id": "ZZIsVV1UPpPQ"
      }
    },
    {
      "cell_type": "markdown",
      "metadata": {
        "id": "-WeCeITXoxLf"
      },
      "source": [
        "# Assignment 1\n",
        "\n",
        "**Credits**: Federico Ruggeri, Eleonora Mancini, Paolo Torroni\n",
        "\n",
        "**Keywords**: POS tagging, Sequence labelling, RNNs"
      ]
    },
    {
      "cell_type": "markdown",
      "metadata": {
        "id": "YjkxhBP7lXWN"
      },
      "source": [
        "\n",
        "# Contact\n",
        "\n",
        "For any doubt, question, issue or help, you can always contact us at the following email addresses:\n",
        "\n",
        "Teaching Assistants:\n",
        "\n",
        "* Federico Ruggeri -> federico.ruggeri6@unibo.it\n",
        "* Eleonora Mancini -> e.mancini@unibo.it\n",
        "\n",
        "Professor:\n",
        "\n",
        "* Paolo Torroni -> p.torroni@unibo.it"
      ]
    },
    {
      "cell_type": "markdown",
      "metadata": {
        "id": "bH8iQ2uOlXWQ"
      },
      "source": [
        "# Introduction\n",
        "\n",
        "You are tasked to address the task of POS tagging.\n",
        "\n",
        "<center>\n",
        "    <img src=\"https://github.com/lorenzobalzani/nlp_assigments/blob/master/Assignment1/images/pos_tagging.png?raw=1\" alt=\"POS tagging\" />\n",
        "</center>"
      ]
    },
    {
      "cell_type": "markdown",
      "metadata": {
        "id": "1FlqdA_wlXWR"
      },
      "source": [
        "# [Task 1 - 0.5 points] Corpus\n",
        "\n",
        "You are going to work with the [Penn TreeBank corpus](https://raw.githubusercontent.com/nltk/nltk_data/gh-pages/packages/corpora/dependency_treebank.zip).\n",
        "\n",
        "**Ignore** the numeric value in the third column, use **only** the words/symbols and their POS label.\n",
        "\n",
        "### Example\n",
        "\n",
        "```Pierre\tNNP\t2\n",
        "Vinken\tNNP\t8\n",
        ",\t,\t2\n",
        "61\tCD\t5\n",
        "years\tNNS\t6\n",
        "old\tJJ\t2\n",
        ",\t,\t2\n",
        "will\tMD\t0\n",
        "join\tVB\t8\n",
        "the\tDT\t11\n",
        "board\tNN\t9\n",
        "as\tIN\t9\n",
        "a\tDT\t15\n",
        "nonexecutive\tJJ\t15\n",
        "director\tNN\t12\n",
        "Nov.\tNNP\t9\n",
        "29\tCD\t16\n",
        ".\t.\t8\n",
        "```"
      ]
    },
    {
      "cell_type": "markdown",
      "metadata": {
        "id": "Iv6l58L7lXWU"
      },
      "source": [
        "### Splits\n",
        "\n",
        "The corpus contains 200 documents.\n",
        "\n",
        "   * **Train**: Documents 1-100\n",
        "   * **Validation**: Documents 101-150\n",
        "   * **Test**: Documents 151-199"
      ]
    },
    {
      "cell_type": "markdown",
      "metadata": {
        "id": "87gikb4ZlXWV"
      },
      "source": [
        "### Instructions\n",
        "\n",
        "* **Download** the corpus.\n",
        "* **Encode** the corpus into a pandas.DataFrame object.\n",
        "* **Split** it in training, validation, and test sets."
      ]
    },
    {
      "cell_type": "code",
      "execution_count": 35,
      "metadata": {
        "id": "OhjWc5uHlXWX",
        "ExecuteTime": {
          "end_time": "2023-11-25T10:56:28.029689Z",
          "start_time": "2023-11-25T10:55:58.591549Z"
        }
      },
      "outputs": [],
      "source": [
        "%%capture\n",
        "%pip install wget gensim prettytable\n",
        "%pip install cudf-cu11 --extra-index-url=https://pypi.nvidia.com\n",
        "%pip install gdown==4.6.0\n",
        "\n",
        "\n",
        "import os\n",
        "import wget\n",
        "from zipfile import ZipFile\n",
        "from typing import List, Dict, Tuple, Any\n",
        "import hashlib\n",
        "from prettytable import PrettyTable\n",
        "import pandas as pd\n",
        "import numpy as np\n",
        "import torch\n",
        "import torch.nn as nn\n",
        "import torch.nn.functional\n",
        "from torch.utils.data import DataLoader, TensorDataset\n",
        "import torch.optim as optim\n",
        "from sklearn.metrics import f1_score, classification_report, precision_score, recall_score\n",
        "from collections import Counter\n",
        "import gensim\n",
        "import gensim.downloader as gensim_downloader\n",
        "from google.colab import drive\n",
        "import random\n",
        "import matplotlib.pyplot as plt\n",
        "import gdown\n",
        "import nltk\n",
        "from nltk.stem import WordNetLemmatizer\n",
        "from nltk.corpus import wordnet"
      ]
    },
    {
      "cell_type": "code",
      "execution_count": 2,
      "metadata": {
        "colab": {
          "base_uri": "https://localhost:8080/"
        },
        "id": "qAzsHjT8lXWe",
        "outputId": "cd281f85-0d3b-4ffe-8875-ce3f9c5d387e",
        "scrolled": true,
        "ExecuteTime": {
          "end_time": "2023-11-25T10:56:33.152226Z",
          "start_time": "2023-11-25T10:56:32.688132Z"
        }
      },
      "outputs": [
        {
          "output_type": "stream",
          "name": "stdout",
          "text": [
            "Check on training set: True\n",
            "Check on validation set: True\n",
            "Check on validation set: True\n"
          ]
        }
      ],
      "source": [
        "def create_dataframe_and_split(download_dataset: bool = False, folder_path: str = \"dependency_treebank\") -> Tuple[pd.DataFrame, pd.DataFrame, pd.DataFrame]:\n",
        "    dataframe: List[Dict[str, str]] = list()\n",
        "    dataset_filename: str = f\"{folder_path}.zip\"\n",
        "    if download_dataset and not os.path.exists(dataset_filename):\n",
        "      wget.download(\"https://raw.githubusercontent.com/nltk/nltk_data/gh-pages/packages/corpora/dependency_treebank.zip\")\n",
        "      with ZipFile(dataset_filename, \"r\") as zObject:\n",
        "        zObject.extractall()\n",
        "\n",
        "    if os.path.exists(folder_path) and os.path.isdir(folder_path):\n",
        "        dp_files = sorted([f for f in os.listdir(folder_path) if f.endswith('.dp')])\n",
        "\n",
        "        for dp_file in dp_files:\n",
        "            with open(os.path.join(folder_path, dp_file), 'r') as file:\n",
        "                for line in file.readlines():\n",
        "                    line = line.split(\"\\t\")[:-1]\n",
        "                    if len(line) > 0: # some lines can be empty\n",
        "                        dataframe.append({\"value\": line[0], \"pos_label\": line[1], \"doc_idx\": int(dp_file.split(\"_\")[-1].split(\".\")[0])})\n",
        "\n",
        "    else:\n",
        "        print(\"The specified folder does not exist or is not a directory.\")\n",
        "    df: pd.DataFrame = pd.DataFrame.from_dict(dataframe)\n",
        "    train: pd.DataFrame = df[df[\"doc_idx\"] <= 100]\n",
        "    validation: pd.DataFrame = df[(df[\"doc_idx\"] > 100) & (df[\"doc_idx\"] <= 150)]\n",
        "    test: pd.DataFrame = df[(df[\"doc_idx\"] > 150) & (df[\"doc_idx\"] <= 199)]\n",
        "    return train, validation, test\n",
        "\n",
        "train, validation, test = create_dataframe_and_split(download_dataset = True)\n",
        "\n",
        "# Test\n",
        "print(f\"Check on training set:\", all(train[\"doc_idx\"] <= 100))\n",
        "print(f\"Check on validation set:\", all((validation[\"doc_idx\"] > 100) & (validation[\"doc_idx\"] <= 150)))\n",
        "print(f\"Check on validation set:\", all((test[\"doc_idx\"] > 150) & (test[\"doc_idx\"] <= 199)))"
      ]
    },
    {
      "cell_type": "markdown",
      "metadata": {
        "id": "CGybUWhzlXWi"
      },
      "source": [
        "# [Task 2 - 0.5 points] Text encoding\n",
        "\n",
        "To train a neural POS tagger, you first need to encode text into numerical format."
      ]
    },
    {
      "cell_type": "markdown",
      "metadata": {
        "id": "OPIBr6_flXWk"
      },
      "source": [
        "## Instructions\n",
        "\n",
        "* Embed words using **GloVe embeddings**.\n",
        "* You are **free** to pick any embedding dimension.\n",
        "* [Optional] You are free to experiment with text pre-processing: **make sure you do not delete any token!**"
      ]
    },
    {
      "cell_type": "code",
      "execution_count": 3,
      "metadata": {
        "id": "m2xFbs1vqWZ0",
        "ExecuteTime": {
          "end_time": "2023-11-25T11:17:22.823060Z",
          "start_time": "2023-11-25T11:17:22.793773Z"
        }
      },
      "outputs": [],
      "source": [
        "def load_embedding_model(model_type: str, embedding_dimension: int = 50) -> gensim.models.keyedvectors.KeyedVectors:\n",
        "    \"\"\"\n",
        "    Loads a pre-trained word embedding model via gensim library.\n",
        "\n",
        "    :param model_type: name of the word embedding model to load.\n",
        "    :param embedding_dimension: size of the embedding space to consider\n",
        "\n",
        "    :return\n",
        "        - pre-trained word embedding model (gensim KeyedVectors object)\n",
        "    \"\"\"\n",
        "    download_path = \"\"\n",
        "    if model_type.strip().lower() == 'word2vec':\n",
        "        download_path = \"word2vec-google-news-300\"\n",
        "\n",
        "    elif model_type.strip().lower() == 'glove':\n",
        "        download_path = \"glove-wiki-gigaword-{}\".format(embedding_dimension)\n",
        "    elif model_type.strip().lower() == 'fasttext':\n",
        "        download_path = \"fasttext-wiki-news-subwords-300\"\n",
        "    else:\n",
        "        raise AttributeError(\"Unsupported embedding model type! Available ones: word2vec, glove, fasttext\")\n",
        "\n",
        "    try:\n",
        "        emb_model = gensim_downloader.load(download_path)\n",
        "    except ValueError as e:\n",
        "        print(\"Invalid embedding model name! Check the embedding dimension:\")\n",
        "        print(\"Word2Vec: 300\")\n",
        "        print(\"Glove: 50, 100, 200, 300\")\n",
        "        print('FastText: 300')\n",
        "        raise e\n",
        "\n",
        "    return emb_model"
      ]
    },
    {
      "cell_type": "code",
      "source": [
        "embedding_dim = 300\n",
        "model_type = \"glove\"\n",
        "embedding_filename = f\"{model_type}_{embedding_dim}_embeddings.pt\"\n",
        "\n",
        "try:\n",
        "  print(f\"Attempting to download {embedding_filename} from Drive...\")\n",
        "  file_id = '1CnoH7tB-1v-1J_Qf2WVelew6wY7RTOd7'\n",
        "  url = f'https://drive.google.com/uc?id={file_id}'\n",
        "  gdown.download(url, embedding_filename, quiet=False)\n",
        "  embedding_model = torch.load(embedding_filename)\n",
        "  print(f\"Successfully downloaded {embedding_filename} from Drive!\")\n",
        "except: # Load and save the model if it doesn't exist\n",
        "    print(\"Loading embedding model...\")\n",
        "    embedding_model = load_embedding_model(model_type=model_type, embedding_dimension=embedding_dim)\n",
        "    torch.save(embedding_model, embedding_filename)"
      ],
      "metadata": {
        "colab": {
          "base_uri": "https://localhost:8080/"
        },
        "id": "U8caBIJDda_v",
        "outputId": "e781376a-ea35-4169-9fae-0fa004415dca"
      },
      "execution_count": 4,
      "outputs": [
        {
          "output_type": "stream",
          "name": "stdout",
          "text": [
            "Attempting to download glove_300_embeddings.pt from Drive...\n",
            "Access denied with the following error:\n",
            "Loading embedding model...\n"
          ]
        },
        {
          "output_type": "stream",
          "name": "stderr",
          "text": [
            "\n",
            " \tCannot retrieve the public link of the file. You may need to change\n",
            "\tthe permission to 'Anyone with the link', or have had many accesses. \n",
            "\n",
            "You may still be able to access the file from the browser:\n",
            "\n",
            "\t https://drive.google.com/uc?id=1CnoH7tB-1v-1J_Qf2WVelew6wY7RTOd7 \n",
            "\n"
          ]
        },
        {
          "output_type": "stream",
          "name": "stdout",
          "text": [
            "[==================================================] 100.0% 376.1/376.1MB downloaded\n"
          ]
        }
      ]
    },
    {
      "cell_type": "markdown",
      "source": [
        "### Check OOV words"
      ],
      "metadata": {
        "id": "t7oj_0pc1kRv"
      }
    },
    {
      "cell_type": "code",
      "execution_count": 5,
      "metadata": {
        "id": "Y8fpybUhtWTK",
        "ExecuteTime": {
          "end_time": "2023-11-25T10:58:31.240815Z",
          "start_time": "2023-11-25T10:58:31.019864Z"
        }
      },
      "outputs": [],
      "source": [
        "def check_oov_terms(embedding_model: gensim.models.keyedvectors.KeyedVectors,\n",
        "                    word_listing: List[str]):\n",
        "    \"\"\"\n",
        "    Checks differences between pre-trained embedding model vocabulary\n",
        "    and dataset specific vocabulary in order to highlight out-of-vocabulary terms.\n",
        "\n",
        "    :param embedding_model: pre-trained word embedding model (gensim wrapper)\n",
        "    :param word_listing: dataset specific vocabulary (list)\n",
        "\n",
        "    :return\n",
        "        - list of OOV terms\n",
        "    \"\"\"\n",
        "    embedding_vocabulary = set(embedding_model.key_to_index.keys())\n",
        "    oov = set(word_listing).difference(embedding_vocabulary)\n",
        "    return list(oov)"
      ]
    },
    {
      "cell_type": "markdown",
      "source": [
        "#### No pre-processing"
      ],
      "metadata": {
        "id": "Pru-Hweq1yO3"
      }
    },
    {
      "cell_type": "code",
      "source": [
        "oov_terms = check_oov_terms(embedding_model, train['value'].unique())\n",
        "oov_percentage = float(len(oov_terms)) / len(train['value'].unique())\n",
        "print(f\"Total OOV terms in the train set: {len(oov_terms)} ({oov_percentage:.2%})\")"
      ],
      "metadata": {
        "colab": {
          "base_uri": "https://localhost:8080/"
        },
        "id": "qqK8rleB1gRY",
        "outputId": "20bee145-92ad-4cc8-f80f-df0ffcfdbbe0"
      },
      "execution_count": 6,
      "outputs": [
        {
          "output_type": "stream",
          "name": "stdout",
          "text": [
            "Total OOV terms in the train set: 2346 (29.29%)\n"
          ]
        }
      ]
    },
    {
      "cell_type": "markdown",
      "source": [
        "#### Applying lower()"
      ],
      "metadata": {
        "id": "AlobewFE12z9"
      }
    },
    {
      "cell_type": "code",
      "source": [
        "train['value'] = train['value'].str.lower()\n",
        "validation['value'] = validation['value'].str.lower()\n",
        "test['value'] = test['value'].str.lower()\n",
        "oov_terms_lowercase = check_oov_terms(embedding_model, train['value'])\n",
        "oov_terms_lowercase_percentage = float(len(oov_terms_lowercase)) / len(train['value'].unique())\n",
        "print(f\"Total OOV terms in the train set after applying lowercase method: {len(oov_terms_lowercase)} ({oov_terms_lowercase_percentage:.2%})\")"
      ],
      "metadata": {
        "colab": {
          "base_uri": "https://localhost:8080/"
        },
        "id": "eHj43ZSP1cix",
        "outputId": "ef579210-45f2-49c1-9a63-816dd55e7cef"
      },
      "execution_count": 7,
      "outputs": [
        {
          "output_type": "stream",
          "name": "stdout",
          "text": [
            "Total OOV terms in the train set after applying lowercase method: 359 (4.85%)\n"
          ]
        }
      ]
    },
    {
      "cell_type": "markdown",
      "source": [
        "#### Lemmatization"
      ],
      "metadata": {
        "id": "3MIyLHrr1-Qd"
      }
    },
    {
      "cell_type": "code",
      "source": [
        "nltk.download('wordnet')\n",
        "lemmatizer = WordNetLemmatizer()\n",
        "\n",
        "def convert_pos_tags(pos_tag: str) -> str:\n",
        "    mapping = {\n",
        "        \"CC\": wordnet.NOUN,\n",
        "        \"CD\": wordnet.NOUN,\n",
        "        \"DT\": wordnet.NOUN,\n",
        "        \"EX\": wordnet.NOUN,\n",
        "        \"FW\": wordnet.NOUN,\n",
        "        \"IN\": wordnet.NOUN,\n",
        "        \"JJ\": wordnet.ADJ,\n",
        "        \"JJR\": wordnet.ADJ,\n",
        "        \"JJS\": wordnet.ADJ,\n",
        "        \"LS\": wordnet.NOUN,\n",
        "        \"MD\": wordnet.VERB,\n",
        "        \"NN\": wordnet.NOUN,\n",
        "        \"NNS\": wordnet.NOUN,\n",
        "        \"NNP\": wordnet.NOUN,\n",
        "        \"NNPS\": wordnet.NOUN,\n",
        "        \"PDT\": wordnet.ADJ,\n",
        "        \"POS\": wordnet.NOUN,\n",
        "        \"PRP\": wordnet.NOUN,\n",
        "        \"PRP$\": wordnet.NOUN,\n",
        "        \"RB\": wordnet.ADV,\n",
        "        \"RBR\": wordnet.ADV,\n",
        "        \"RBS\": wordnet.ADV,\n",
        "        \"RP\": wordnet.NOUN,\n",
        "        \"SYM\": wordnet.NOUN,\n",
        "        \"TO\": wordnet.NOUN,\n",
        "        \"UH\": wordnet.NOUN,\n",
        "        \"VB\": wordnet.VERB,\n",
        "        \"VBD\": wordnet.VERB,\n",
        "        \"VBG\": wordnet.VERB,\n",
        "        \"VBN\": wordnet.VERB,\n",
        "        \"VBP\": wordnet.VERB,\n",
        "        \"VBZ\": wordnet.VERB,\n",
        "        \"WDT\": wordnet.NOUN,\n",
        "        \"WP\": wordnet.NOUN,\n",
        "        \"WP$\": wordnet.NOUN,\n",
        "        \"WRB\": wordnet.ADV\n",
        "    }\n",
        "\n",
        "    return mapping.get(pos_tag)\n",
        "\n",
        "\n",
        "def lemmatize_dataset(word: str, pos_label: str = None) -> str:\n",
        "    try:\n",
        "      lemma: str = lemmatizer.lemmatize(word, convert_pos_tags(pos_label))\n",
        "      return lemma\n",
        "    except Exception as e:\n",
        "      return word\n",
        "\n",
        "train_lemmatize = train.copy(deep=True)\n",
        "validation_lemmatize = train.copy(deep=True)\n",
        "test_lemmatize = train.copy(deep=True)\n",
        "\n",
        "train_lemmatize['value'] = train_lemmatize.apply(lambda row: lemmatize_dataset(row['value'], row['pos_label']), axis=1)\n",
        "validation_lemmatize['value'] = validation_lemmatize.apply(lambda row: lemmatize_dataset(row['value']), axis=1)\n",
        "test_lemmatize['value'] = test_lemmatize.apply(lambda row: lemmatize_dataset(row['value']), axis=1)\n",
        "\n",
        "oov_terms_lemmatization = check_oov_terms(embedding_model, train_lemmatize['value'].unique())\n",
        "oov_percentage_lemmatization = float(len(oov_terms_lemmatization)) / len(train_lemmatize['value'].unique())\n",
        "print(f\"Total OOV terms in the train set: {len(oov_terms_lemmatization)} ({oov_percentage_lemmatization:.2%})\")"
      ],
      "metadata": {
        "colab": {
          "base_uri": "https://localhost:8080/"
        },
        "id": "Odxx8_Isqzwy",
        "outputId": "bfd81735-beba-4875-9570-6fe29f549eef"
      },
      "execution_count": 8,
      "outputs": [
        {
          "output_type": "stream",
          "name": "stdout",
          "text": [
            "Total OOV terms in the train set: 363 (6.00%)\n"
          ]
        }
      ]
    },
    {
      "cell_type": "markdown",
      "source": [
        "Lemmatizing words in a pre-processing pipeline for extracting Part-of-Speech (POS) tags may not always be beneficial and can inadvertently lead to an increase in out-of-vocabulary (OOV) instances. Lemmatization involves reducing words to their base or root form which could not be beneficial when aiming to extract POS tags, since preserving the original word forms may be more advantageous. This transformation can introduce ambiguity and misclassification, especially caused by the loss of distinct syntactic information crucial for accurate POS tagging."
      ],
      "metadata": {
        "id": "Qt6a_RjAmtnD"
      }
    },
    {
      "cell_type": "markdown",
      "source": [
        "We notive that uppercase/capitalized words are for the most part not present in the Glove embedding. After some experimentation, we realised that applying a `lower()` method to the dataset increases the number of unique embeddings in our models, resulting in an higher f1-score. Furthermore, we also notice more words not present in the Glove embedding of type as below:\n",
        "\n",
        "* Numerical Values and Quantities: These are numbers often used in financial, scientific, or statist`cal contexts. They can be whole numbers, decimals, or even fractions. Examples include '1.457', '100,980', '12,252', and '1\\/10th'.\n",
        "\n",
        "* Alphanumeric Combinations: These are words that combine numbers and letters, often used in specific technical or branded contexts. Examples include 'c-90', 'c.j.b.', and 'ctbs'.\n",
        "\n",
        "* Composite Words or Compound Words: These are words formed by combining two or more words, often linked by hyphens. They are used to create a specific or more nuanced meaning than the individual words alone. Examples include 'asset-sale', 'auto-safety', 'beer-belly', 'capital-gains', 'computer-system-design', and 'family-planning'.\n",
        "\n",
        "* Bracket Representations: Words like '-lcb-', '-lrb-', '-rcb-', and '-rrb-' are likely placeholders or encoded representations for left and right brackets (curly and round), often used in text processing or encoding.\n",
        "\n",
        "* Branded or Specific Names: These include names that might be specific to companies, brands, models, or even specific terms within an industry. Examples include 'bridgestone/firestone', 'corton-charlemagne', 'akerfeldt', and 'aslacton'.\n",
        "\n",
        "* Mixture of Alphabetic and Symbolic Characters: Some entries combine letters with symbols, such as 'creator's' and 'delwin'. These may represent possessive forms or be specific names or terms with an apostrophe.\n",
        "\n",
        "* Hyphenated Descriptive Terms: These are descriptive phrases often hyphenated to express a specific idea or concept, like 'big-ticket', 'bald-faced', and 'dead-eyed'.\n",
        "\n",
        "* Technical or Industry-Specific Terms: Some words seem to be specific to certain fields or industries, like 'crocidolite' (a type of asbestos), 'amphobiles', and 'antitrust-law'."
      ],
      "metadata": {
        "id": "dVsRGNj0tJzu"
      }
    },
    {
      "cell_type": "code",
      "source": [
        "set(oov_terms_lowercase) - set(oov_terms)"
      ],
      "metadata": {
        "colab": {
          "base_uri": "https://localhost:8080/"
        },
        "id": "nCt3fY-GrcTn",
        "outputId": "b775b525-9c49-4742-cf88-ef285fffd256"
      },
      "execution_count": 9,
      "outputs": [
        {
          "output_type": "execute_result",
          "data": {
            "text/plain": [
              "{'-lcb-',\n",
              " '-lrb-',\n",
              " '-rcb-',\n",
              " '-rrb-',\n",
              " 'ac-130u',\n",
              " 'akerfeldt',\n",
              " 'alurralde',\n",
              " 'anti-china',\n",
              " 'ariail',\n",
              " 'aslacton',\n",
              " 'bermuda-based',\n",
              " 'biondi-santi',\n",
              " 'boorse',\n",
              " 'bridgestone\\\\/firestone',\n",
              " 'bumkins',\n",
              " 'c-90',\n",
              " 'c.j.b.',\n",
              " 'centerbank',\n",
              " 'chafic',\n",
              " 'chemplus',\n",
              " 'chilver',\n",
              " 'chinchon',\n",
              " 'chong-sik',\n",
              " 'coche-dury',\n",
              " 'colonsville',\n",
              " 'corton-charlemagne',\n",
              " 'cotran',\n",
              " 'cray-3',\n",
              " \"creator's\",\n",
              " 'ctbs',\n",
              " 'delwin',\n",
              " 'deposits-a',\n",
              " 'derel',\n",
              " 'dollar-yen',\n",
              " 'drobnick',\n",
              " 'ensrud',\n",
              " 'erbamont',\n",
              " 'ft-se',\n",
              " 'ghkm',\n",
              " 'gingl',\n",
              " 'glenham',\n",
              " 'hallwood',\n",
              " 'hummerstone',\n",
              " 'ingersoll-rand',\n",
              " 'integra-a',\n",
              " 'iran\\\\/contra',\n",
              " 'jalaalwalikraam',\n",
              " 'jerritts',\n",
              " 'kalipharma',\n",
              " 'lafite-rothschild',\n",
              " 'landonne',\n",
              " 'lezovich',\n",
              " 'macheski',\n",
              " 'macmillan\\\\/mcgraw',\n",
              " 'macmillan\\\\/mcgraw-hill',\n",
              " 'makato',\n",
              " 'malizia',\n",
              " 'mehrens',\n",
              " 'meinders',\n",
              " 'micronite',\n",
              " 'moleculon',\n",
              " 'monchecourt',\n",
              " 'muscolina',\n",
              " 'nagymaros',\n",
              " 'nekoosa',\n",
              " 'nesb',\n",
              " 'nih-appointed',\n",
              " 'nipponese',\n",
              " 'nissho-iwai',\n",
              " 'northy',\n",
              " 'norwick',\n",
              " 'ntg',\n",
              " 'old-house',\n",
              " 'pattenden',\n",
              " 'pennview',\n",
              " 'pramual',\n",
              " 'pro-forma',\n",
              " 'purepac',\n",
              " 'rapanelli',\n",
              " 'ratners',\n",
              " 'red-blooded',\n",
              " 'retin-a',\n",
              " 'rexinger',\n",
              " 'romanee-conti',\n",
              " 'rubinfien',\n",
              " 'sacramento-based',\n",
              " 'samnick',\n",
              " 'sanderoff',\n",
              " 'satrum',\n",
              " 'secilia',\n",
              " 'senate-house',\n",
              " 'sharedata',\n",
              " 'sino-u.s.',\n",
              " 'solaia',\n",
              " 'stirlen',\n",
              " 'synergistics',\n",
              " 'tarwhine',\n",
              " 'times-stock',\n",
              " 'tiphook',\n",
              " 'trettien',\n",
              " 'trockenbeerenauslesen',\n",
              " 'univest',\n",
              " 'uzi-model',\n",
              " 'veselich',\n",
              " 'vinken',\n",
              " 'vitulli',\n",
              " 'we-japanese',\n",
              " 'weisfield',\n",
              " 'wfrr',\n",
              " 'wheeland',\n",
              " 'wtd',\n",
              " 'yeargin'}"
            ]
          },
          "metadata": {},
          "execution_count": 9
        }
      ]
    },
    {
      "cell_type": "markdown",
      "metadata": {
        "id": "pd-mhGDslXWm"
      },
      "source": [
        "# [Task 3 - 1.0 points] Model definition\n",
        "\n",
        "You are now tasked to define your neural POS tagger."
      ]
    },
    {
      "cell_type": "markdown",
      "metadata": {
        "id": "IH9BPBwQlXWn"
      },
      "source": [
        "### Instructions\n",
        "\n",
        "* **Baseline**: implement a Bidirectional LSTM with a Dense layer on top.\n",
        "* You are **free** to experiment with hyper-parameters to define the baseline model.\n",
        "\n",
        "* **Model 1**: add an additional LSTM layer to the Baseline model.\n",
        "* **Model 2**: add an additional Dense layer to the Baseline model.\n",
        "\n",
        "* **Do not mix Model 1 and Model 2**. Each model has its own instructions.\n",
        "\n",
        "**Note**: if a document contains many tokens, you are **free** to split them into chunks or sentences to define your mini-batches."
      ]
    },
    {
      "cell_type": "code",
      "execution_count": 10,
      "metadata": {
        "id": "u4X9kPliLIjR",
        "ExecuteTime": {
          "end_time": "2023-11-25T11:02:41.201284Z",
          "start_time": "2023-11-25T11:02:41.120556Z"
        }
      },
      "outputs": [],
      "source": [
        " # SoftMax is not necessary when using cross-entropy in Pytorch\n",
        "\n",
        "class BaselineModel(nn.Module):\n",
        "    def __init__(self, vocab_size, embedding_dim, hidden_size, num_classes, embedding_matrix, padding_idx):\n",
        "        super(BaselineModel, self).__init__()\n",
        "\n",
        "        # Embedding layer with pre-trained weights\n",
        "        self.embedding = nn.Embedding(vocab_size, embedding_dim, padding_idx=padding_idx).from_pretrained(embedding_matrix, freeze=False)\n",
        "\n",
        "        # Bidirectional LSTM\n",
        "        self.lstm = nn.LSTM(embedding_dim, hidden_size, batch_first=True, bidirectional=True)\n",
        "\n",
        "        # Dense layer\n",
        "        self.linear = nn.Linear(hidden_size * 2, num_classes)  # Multiply by 2 for bidirectional\n",
        "\n",
        "        # Potential softmax layer -> self.softmax = nn.Softmax(dim=1)\n",
        "\n",
        "    def forward(self, x):\n",
        "        x = self.embedding(x)\n",
        "        hidden_vectors, _ = self.lstm(x)\n",
        "        x = self.linear(hidden_vectors)\n",
        "        return x\n",
        "\n",
        "\n",
        "class Model1(nn.Module):\n",
        "    def __init__(self, vocab_size, embedding_dim, hidden_size, num_classes, embedding_matrix, padding_idx):\n",
        "        super(Model1, self).__init__()\n",
        "\n",
        "        # Embedding layer with pre-trained weights\n",
        "        self.embedding = nn.Embedding(vocab_size, embedding_dim, padding_idx=padding_idx).from_pretrained(embedding_matrix, freeze=False)\n",
        "\n",
        "        # Two layers of Bidirectional LSTM\n",
        "        self.lstm = nn.LSTM(embedding_dim, hidden_size, batch_first=True, bidirectional=True, num_layers=2)\n",
        "\n",
        "        # Dense layer\n",
        "        self.linear = nn.Linear(hidden_size * 2, num_classes)\n",
        "\n",
        "    def forward(self, x):\n",
        "        x = self.embedding(x)\n",
        "        hidden_vectors, _ = self.lstm(x)\n",
        "        x = self.linear(hidden_vectors)\n",
        "        return x\n",
        "\n",
        "\n",
        "class Model2(nn.Module):\n",
        "    def __init__(self, vocab_size, embedding_dim, hidden_size, num_classes, embedding_matrix, padding_idx):\n",
        "        super(Model2, self).__init__()\n",
        "\n",
        "        # Embedding layer with pre-trained weights\n",
        "        self.embedding = nn.Embedding(vocab_size, embedding_dim, padding_idx=padding_idx).from_pretrained(embedding_matrix, freeze=False)\n",
        "\n",
        "        # Bidirectional LSTM\n",
        "        self.lstm = nn.LSTM(embedding_dim, hidden_size, batch_first=True, bidirectional=True)\n",
        "\n",
        "        # Dense layer\n",
        "        self.linear1 = nn.Linear(hidden_size * 2, hidden_size * 2)\n",
        "\n",
        "        # Dense layer\n",
        "        self.linear2 = nn.Linear(hidden_size * 2, num_classes)\n",
        "\n",
        "    def forward(self, x):\n",
        "        x = self.embedding(x)\n",
        "        hidden_vectors, _ = self.lstm(x)\n",
        "        x = self.linear1(hidden_vectors)\n",
        "        x = self.linear2(x)\n",
        "        return x"
      ]
    },
    {
      "cell_type": "markdown",
      "metadata": {
        "id": "gE5b6vuKLOdv"
      },
      "source": [
        "Let's create an embedding using the pre-trained Glove Embedding for each word in our vocabulary. If the word is OOV, we will instantiate an embedding that only consists of zeros.\n",
        "\n",
        "If the input word is unknown <UNK> the embedding result is always the same."
      ]
    },
    {
      "cell_type": "code",
      "execution_count": 11,
      "metadata": {
        "id": "n_azHBoAM-qc",
        "ExecuteTime": {
          "end_time": "2023-11-25T11:03:57.377391Z",
          "start_time": "2023-11-25T11:03:57.333612Z"
        }
      },
      "outputs": [],
      "source": [
        "def get_word_embedding(embedding_model, word: str, embedding_dim: int, random_seed: int = 42) -> np.ndarray:\n",
        "    np.random.seed(random_seed)\n",
        "\n",
        "    if word == '<PAD>':\n",
        "        return np.zeros(embedding_dim)\n",
        "    elif word == '<UNK>':\n",
        "        return generate_consistent_random_embedding(word, embedding_dim)\n",
        "    else:\n",
        "        try:\n",
        "            return embedding_model[word]\n",
        "        except KeyError:\n",
        "            return generate_consistent_random_embedding(word, embedding_dim)\n",
        "\n",
        "def generate_consistent_random_embedding(word: str, embedding_dim: int) -> np.ndarray:\n",
        "    # Use a hash function to generate a unique number for the word\n",
        "    hash_value = int(hashlib.sha256(word.encode('utf-8')).hexdigest(), 16)\n",
        "    np.random.seed(hash_value % (2**32 - 1))  # Use the hash value as a seed\n",
        "\n",
        "    return np.random.uniform(low=-1, high=1, size=embedding_dim)\n",
        "\n",
        "def pad_sequences(sequences, max_length, padding_idx=0):\n",
        "    # Convert sequences to tensor\n",
        "    sequence_tensors = [torch.tensor(sequence) for sequence in sequences]\n",
        "\n",
        "    # Pad each sequence to the maximum length\n",
        "    padded_sequences = [torch.nn.functional.pad(seq, (0, max_length - len(seq)), 'constant', padding_idx) for seq in sequence_tensors]\n",
        "\n",
        "    # Stack the sequences into a single tensor\n",
        "    padded_sequences = torch.stack(padded_sequences)\n",
        "\n",
        "    return padded_sequences\n",
        "\n",
        "def features_tokenizer(sorted_vocabulary: pd.Series, words: pd.Series) -> pd.Series:\n",
        "    word_to_index = {word: i for i, word in enumerate(sorted_vocabulary)}\n",
        "\n",
        "    def tokenize_single_word(word):\n",
        "        return word_to_index.get(word, word_to_index[\"<UNK>\"]) # If word is not in dictionary, it returns default \"word_to_index[<UNK>]\"\n",
        "\n",
        "    return words.apply(tokenize_single_word)\n",
        "\n",
        "def labels_tokenizer(sorted_vocabulary: pd.Series, words: pd.Series) -> pd.Series:\n",
        "    word_to_index = {word: i for i, word in enumerate(sorted_vocabulary)}\n",
        "\n",
        "    def tokenize_single_word(word):\n",
        "        return word_to_index[word]\n",
        "\n",
        "    return words.apply(tokenize_single_word)"
      ]
    },
    {
      "cell_type": "code",
      "execution_count": 12,
      "metadata": {
        "colab": {
          "base_uri": "https://localhost:8080/"
        },
        "id": "x1C0zxRgKt5C",
        "outputId": "ec611229-79ba-48ce-c28d-df8d09087aab",
        "ExecuteTime": {
          "end_time": "2023-11-25T11:05:00.272173Z",
          "start_time": "2023-11-25T11:05:00.110002Z"
        }
      },
      "outputs": [
        {
          "output_type": "stream",
          "name": "stdout",
          "text": [
            "Is <UNK> already in the vocabulary?: False\n",
            "Is <PAD> already in the vocabulary?: False\n",
            "\n",
            "Size of the vocabulary is 7406\n",
            "Size of the POS target set is 45\n"
          ]
        }
      ],
      "source": [
        "# Sorting out our vocabulary train in alphabetical order, after having dropped duplicates\n",
        "vocabulary = train['value'].drop_duplicates().sort_values()\n",
        "\n",
        "print(f\"Is <UNK> already in the vocabulary?: {'<UNK>' in train['value'].drop_duplicates().sort_values()}\")\n",
        "print(f\"Is <PAD> already in the vocabulary?: {'<PAD>' in train['value'].drop_duplicates().sort_values()}\")\n",
        "\n",
        "# Add padding token\n",
        "features_vocabulary = pd.concat([pd.Series([\"<PAD>\"]), pd.Series([\"<UNK>\"]), vocabulary]).reset_index(drop=True)\n",
        "features_vocabulary_size = len(features_vocabulary)\n",
        "print(f\"\\nSize of the vocabulary is {features_vocabulary_size}\")\n",
        "\n",
        "labels_vocabulary = train['pos_label'].drop_duplicates().sort_values().reset_index(drop=True)\n",
        "labels_vocabulary_size = len(labels_vocabulary)\n",
        "print(f\"Size of the POS target set is {labels_vocabulary_size}\")\n",
        "\n",
        "word_to_embedding = {word: get_word_embedding(embedding_model, word, embedding_dim, 42) for i, word in enumerate(features_vocabulary)}\n",
        "\n",
        "embedding_matrix = np.vstack(list(word_to_embedding.values()))\n",
        "\n",
        "# Create PyTorch tensor to use in models\n",
        "embedding_tensor = torch.tensor(embedding_matrix, dtype=torch.float32)"
      ]
    },
    {
      "cell_type": "code",
      "source": [
        "def split_into_sentences(df):\n",
        "    # Identify the end of sentences (rows where 'value' is '.')\n",
        "    sentence_end_mask = df['value'] == '.'\n",
        "\n",
        "    # Shift the mask by one row so that the period is included in the current sentence\n",
        "    shifted_sentence_end_mask = sentence_end_mask.shift(1, fill_value=False)\n",
        "\n",
        "    # Add an extra column for sentence indices\n",
        "    df['sentence_idx'] = shifted_sentence_end_mask.cumsum()\n",
        "\n",
        "    # Split the dataframe into a list of dataframes, each representing a sentence\n",
        "    sentences = [sentence_df for _, sentence_df in df.groupby('sentence_idx')]\n",
        "\n",
        "    return pd.concat(sentences)\n",
        "\n",
        "# Usage\n",
        "train_with_sentences = split_into_sentences(train)\n",
        "validation_with_sentences = split_into_sentences(validation)\n",
        "test_with_sentences = split_into_sentences(test)\n",
        "\n",
        "train_with_sentences.head()"
      ],
      "metadata": {
        "colab": {
          "base_uri": "https://localhost:8080/",
          "height": 206
        },
        "id": "kNkhHwACXgXw",
        "outputId": "6408c0e4-8a3e-40bc-b677-90223fda388b",
        "ExecuteTime": {
          "end_time": "2023-11-25T11:06:01.175741Z",
          "start_time": "2023-11-25T11:06:00.734629Z"
        }
      },
      "execution_count": 13,
      "outputs": [
        {
          "output_type": "execute_result",
          "data": {
            "text/plain": [
              "    value pos_label  doc_idx  sentence_idx\n",
              "0  pierre       NNP        1             0\n",
              "1  vinken       NNP        1             0\n",
              "2       ,         ,        1             0\n",
              "3      61        CD        1             0\n",
              "4   years       NNS        1             0"
            ],
            "text/html": [
              "\n",
              "  <div id=\"df-150b6028-a534-4fcc-8819-e9668c51ebeb\" class=\"colab-df-container\">\n",
              "    <div>\n",
              "<style scoped>\n",
              "    .dataframe tbody tr th:only-of-type {\n",
              "        vertical-align: middle;\n",
              "    }\n",
              "\n",
              "    .dataframe tbody tr th {\n",
              "        vertical-align: top;\n",
              "    }\n",
              "\n",
              "    .dataframe thead th {\n",
              "        text-align: right;\n",
              "    }\n",
              "</style>\n",
              "<table border=\"1\" class=\"dataframe\">\n",
              "  <thead>\n",
              "    <tr style=\"text-align: right;\">\n",
              "      <th></th>\n",
              "      <th>value</th>\n",
              "      <th>pos_label</th>\n",
              "      <th>doc_idx</th>\n",
              "      <th>sentence_idx</th>\n",
              "    </tr>\n",
              "  </thead>\n",
              "  <tbody>\n",
              "    <tr>\n",
              "      <th>0</th>\n",
              "      <td>pierre</td>\n",
              "      <td>NNP</td>\n",
              "      <td>1</td>\n",
              "      <td>0</td>\n",
              "    </tr>\n",
              "    <tr>\n",
              "      <th>1</th>\n",
              "      <td>vinken</td>\n",
              "      <td>NNP</td>\n",
              "      <td>1</td>\n",
              "      <td>0</td>\n",
              "    </tr>\n",
              "    <tr>\n",
              "      <th>2</th>\n",
              "      <td>,</td>\n",
              "      <td>,</td>\n",
              "      <td>1</td>\n",
              "      <td>0</td>\n",
              "    </tr>\n",
              "    <tr>\n",
              "      <th>3</th>\n",
              "      <td>61</td>\n",
              "      <td>CD</td>\n",
              "      <td>1</td>\n",
              "      <td>0</td>\n",
              "    </tr>\n",
              "    <tr>\n",
              "      <th>4</th>\n",
              "      <td>years</td>\n",
              "      <td>NNS</td>\n",
              "      <td>1</td>\n",
              "      <td>0</td>\n",
              "    </tr>\n",
              "  </tbody>\n",
              "</table>\n",
              "</div>\n",
              "    <div class=\"colab-df-buttons\">\n",
              "\n",
              "  <div class=\"colab-df-container\">\n",
              "    <button class=\"colab-df-convert\" onclick=\"convertToInteractive('df-150b6028-a534-4fcc-8819-e9668c51ebeb')\"\n",
              "            title=\"Convert this dataframe to an interactive table.\"\n",
              "            style=\"display:none;\">\n",
              "\n",
              "  <svg xmlns=\"http://www.w3.org/2000/svg\" height=\"24px\" viewBox=\"0 -960 960 960\">\n",
              "    <path d=\"M120-120v-720h720v720H120Zm60-500h600v-160H180v160Zm220 220h160v-160H400v160Zm0 220h160v-160H400v160ZM180-400h160v-160H180v160Zm440 0h160v-160H620v160ZM180-180h160v-160H180v160Zm440 0h160v-160H620v160Z\"/>\n",
              "  </svg>\n",
              "    </button>\n",
              "\n",
              "  <style>\n",
              "    .colab-df-container {\n",
              "      display:flex;\n",
              "      gap: 12px;\n",
              "    }\n",
              "\n",
              "    .colab-df-convert {\n",
              "      background-color: #E8F0FE;\n",
              "      border: none;\n",
              "      border-radius: 50%;\n",
              "      cursor: pointer;\n",
              "      display: none;\n",
              "      fill: #1967D2;\n",
              "      height: 32px;\n",
              "      padding: 0 0 0 0;\n",
              "      width: 32px;\n",
              "    }\n",
              "\n",
              "    .colab-df-convert:hover {\n",
              "      background-color: #E2EBFA;\n",
              "      box-shadow: 0px 1px 2px rgba(60, 64, 67, 0.3), 0px 1px 3px 1px rgba(60, 64, 67, 0.15);\n",
              "      fill: #174EA6;\n",
              "    }\n",
              "\n",
              "    .colab-df-buttons div {\n",
              "      margin-bottom: 4px;\n",
              "    }\n",
              "\n",
              "    [theme=dark] .colab-df-convert {\n",
              "      background-color: #3B4455;\n",
              "      fill: #D2E3FC;\n",
              "    }\n",
              "\n",
              "    [theme=dark] .colab-df-convert:hover {\n",
              "      background-color: #434B5C;\n",
              "      box-shadow: 0px 1px 3px 1px rgba(0, 0, 0, 0.15);\n",
              "      filter: drop-shadow(0px 1px 2px rgba(0, 0, 0, 0.3));\n",
              "      fill: #FFFFFF;\n",
              "    }\n",
              "  </style>\n",
              "\n",
              "    <script>\n",
              "      const buttonEl =\n",
              "        document.querySelector('#df-150b6028-a534-4fcc-8819-e9668c51ebeb button.colab-df-convert');\n",
              "      buttonEl.style.display =\n",
              "        google.colab.kernel.accessAllowed ? 'block' : 'none';\n",
              "\n",
              "      async function convertToInteractive(key) {\n",
              "        const element = document.querySelector('#df-150b6028-a534-4fcc-8819-e9668c51ebeb');\n",
              "        const dataTable =\n",
              "          await google.colab.kernel.invokeFunction('convertToInteractive',\n",
              "                                                    [key], {});\n",
              "        if (!dataTable) return;\n",
              "\n",
              "        const docLinkHtml = 'Like what you see? Visit the ' +\n",
              "          '<a target=\"_blank\" href=https://colab.research.google.com/notebooks/data_table.ipynb>data table notebook</a>'\n",
              "          + ' to learn more about interactive tables.';\n",
              "        element.innerHTML = '';\n",
              "        dataTable['output_type'] = 'display_data';\n",
              "        await google.colab.output.renderOutput(dataTable, element);\n",
              "        const docLink = document.createElement('div');\n",
              "        docLink.innerHTML = docLinkHtml;\n",
              "        element.appendChild(docLink);\n",
              "      }\n",
              "    </script>\n",
              "  </div>\n",
              "\n",
              "\n",
              "<div id=\"df-a470273f-375e-45bc-81c5-9805e95a3603\">\n",
              "  <button class=\"colab-df-quickchart\" onclick=\"quickchart('df-a470273f-375e-45bc-81c5-9805e95a3603')\"\n",
              "            title=\"Suggest charts\"\n",
              "            style=\"display:none;\">\n",
              "\n",
              "<svg xmlns=\"http://www.w3.org/2000/svg\" height=\"24px\"viewBox=\"0 0 24 24\"\n",
              "     width=\"24px\">\n",
              "    <g>\n",
              "        <path d=\"M19 3H5c-1.1 0-2 .9-2 2v14c0 1.1.9 2 2 2h14c1.1 0 2-.9 2-2V5c0-1.1-.9-2-2-2zM9 17H7v-7h2v7zm4 0h-2V7h2v10zm4 0h-2v-4h2v4z\"/>\n",
              "    </g>\n",
              "</svg>\n",
              "  </button>\n",
              "\n",
              "<style>\n",
              "  .colab-df-quickchart {\n",
              "      --bg-color: #E8F0FE;\n",
              "      --fill-color: #1967D2;\n",
              "      --hover-bg-color: #E2EBFA;\n",
              "      --hover-fill-color: #174EA6;\n",
              "      --disabled-fill-color: #AAA;\n",
              "      --disabled-bg-color: #DDD;\n",
              "  }\n",
              "\n",
              "  [theme=dark] .colab-df-quickchart {\n",
              "      --bg-color: #3B4455;\n",
              "      --fill-color: #D2E3FC;\n",
              "      --hover-bg-color: #434B5C;\n",
              "      --hover-fill-color: #FFFFFF;\n",
              "      --disabled-bg-color: #3B4455;\n",
              "      --disabled-fill-color: #666;\n",
              "  }\n",
              "\n",
              "  .colab-df-quickchart {\n",
              "    background-color: var(--bg-color);\n",
              "    border: none;\n",
              "    border-radius: 50%;\n",
              "    cursor: pointer;\n",
              "    display: none;\n",
              "    fill: var(--fill-color);\n",
              "    height: 32px;\n",
              "    padding: 0;\n",
              "    width: 32px;\n",
              "  }\n",
              "\n",
              "  .colab-df-quickchart:hover {\n",
              "    background-color: var(--hover-bg-color);\n",
              "    box-shadow: 0 1px 2px rgba(60, 64, 67, 0.3), 0 1px 3px 1px rgba(60, 64, 67, 0.15);\n",
              "    fill: var(--button-hover-fill-color);\n",
              "  }\n",
              "\n",
              "  .colab-df-quickchart-complete:disabled,\n",
              "  .colab-df-quickchart-complete:disabled:hover {\n",
              "    background-color: var(--disabled-bg-color);\n",
              "    fill: var(--disabled-fill-color);\n",
              "    box-shadow: none;\n",
              "  }\n",
              "\n",
              "  .colab-df-spinner {\n",
              "    border: 2px solid var(--fill-color);\n",
              "    border-color: transparent;\n",
              "    border-bottom-color: var(--fill-color);\n",
              "    animation:\n",
              "      spin 1s steps(1) infinite;\n",
              "  }\n",
              "\n",
              "  @keyframes spin {\n",
              "    0% {\n",
              "      border-color: transparent;\n",
              "      border-bottom-color: var(--fill-color);\n",
              "      border-left-color: var(--fill-color);\n",
              "    }\n",
              "    20% {\n",
              "      border-color: transparent;\n",
              "      border-left-color: var(--fill-color);\n",
              "      border-top-color: var(--fill-color);\n",
              "    }\n",
              "    30% {\n",
              "      border-color: transparent;\n",
              "      border-left-color: var(--fill-color);\n",
              "      border-top-color: var(--fill-color);\n",
              "      border-right-color: var(--fill-color);\n",
              "    }\n",
              "    40% {\n",
              "      border-color: transparent;\n",
              "      border-right-color: var(--fill-color);\n",
              "      border-top-color: var(--fill-color);\n",
              "    }\n",
              "    60% {\n",
              "      border-color: transparent;\n",
              "      border-right-color: var(--fill-color);\n",
              "    }\n",
              "    80% {\n",
              "      border-color: transparent;\n",
              "      border-right-color: var(--fill-color);\n",
              "      border-bottom-color: var(--fill-color);\n",
              "    }\n",
              "    90% {\n",
              "      border-color: transparent;\n",
              "      border-bottom-color: var(--fill-color);\n",
              "    }\n",
              "  }\n",
              "</style>\n",
              "\n",
              "  <script>\n",
              "    async function quickchart(key) {\n",
              "      const quickchartButtonEl =\n",
              "        document.querySelector('#' + key + ' button');\n",
              "      quickchartButtonEl.disabled = true;  // To prevent multiple clicks.\n",
              "      quickchartButtonEl.classList.add('colab-df-spinner');\n",
              "      try {\n",
              "        const charts = await google.colab.kernel.invokeFunction(\n",
              "            'suggestCharts', [key], {});\n",
              "      } catch (error) {\n",
              "        console.error('Error during call to suggestCharts:', error);\n",
              "      }\n",
              "      quickchartButtonEl.classList.remove('colab-df-spinner');\n",
              "      quickchartButtonEl.classList.add('colab-df-quickchart-complete');\n",
              "    }\n",
              "    (() => {\n",
              "      let quickchartButtonEl =\n",
              "        document.querySelector('#df-a470273f-375e-45bc-81c5-9805e95a3603 button');\n",
              "      quickchartButtonEl.style.display =\n",
              "        google.colab.kernel.accessAllowed ? 'block' : 'none';\n",
              "    })();\n",
              "  </script>\n",
              "</div>\n",
              "    </div>\n",
              "  </div>\n"
            ]
          },
          "metadata": {},
          "execution_count": 13
        }
      ]
    },
    {
      "cell_type": "code",
      "execution_count": 14,
      "metadata": {
        "colab": {
          "base_uri": "https://localhost:8080/"
        },
        "id": "HCMjP_-9ffMt",
        "outputId": "8886173d-9efa-4a7f-d006-1e5d2ca35244",
        "ExecuteTime": {
          "end_time": "2023-11-25T11:06:55.259527Z",
          "start_time": "2023-11-25T11:06:45.915270Z"
        }
      },
      "outputs": [
        {
          "output_type": "stream",
          "name": "stdout",
          "text": [
            "The maximum length of a document in training set is 250\n",
            "The maximum length of a document in validation set is 88\n",
            "The maximum length of a document in test set is 80\n"
          ]
        }
      ],
      "source": [
        "train_padding_max_length = 0\n",
        "for sentence_idx in train_with_sentences['sentence_idx'].unique():\n",
        "  train_padding_max_length = max(sum(train_with_sentences['sentence_idx'] == sentence_idx), train_padding_max_length)\n",
        "\n",
        "print(f\"The maximum length of a document in training set is {train_padding_max_length}\")\n",
        "\n",
        "validation_padding_max_length = 0\n",
        "for sentence_idx in validation_with_sentences['sentence_idx'].unique():\n",
        "  validation_padding_max_length = max(sum(validation_with_sentences['sentence_idx'] == sentence_idx), validation_padding_max_length)\n",
        "print(f\"The maximum length of a document in validation set is {validation_padding_max_length}\")\n",
        "\n",
        "test_padding_max_length = 0\n",
        "for sentence_idx in test_with_sentences['sentence_idx'].unique():\n",
        "  test_padding_max_length = max(sum(test_with_sentences['sentence_idx'] == sentence_idx), test_padding_max_length)\n",
        "print(f\"The maximum length of a document in test set is {test_padding_max_length}\")"
      ]
    },
    {
      "cell_type": "markdown",
      "source": [
        "We define a function to generate x and y splits for our train, validation and test set as below. In particular, the input of our function will be:\n",
        "\n",
        "* dataframe_list: a list of the dataframes we need to split, in our case train, validation and test.\n",
        "* padding_max_length: the maximum lenght of our padded sequences\n",
        "* features_vovabulary: vocabulary of our features\n",
        "* labels_vovabulary: vocabulary of our labels"
      ],
      "metadata": {
        "id": "mxsbeuEzMdib"
      }
    },
    {
      "cell_type": "code",
      "execution_count": 15,
      "metadata": {
        "id": "4LReXMrrUuU1",
        "ExecuteTime": {
          "end_time": "2023-11-25T11:08:25.604521Z",
          "start_time": "2023-11-25T11:08:24.597206Z"
        }
      },
      "outputs": [],
      "source": [
        "def train_test_val_splits(dataframe_list: List[pd.DataFrame], padding_max_length: int, features_vocabulary: pd.Series, labels_vocabulary: pd.Series) -> Tuple[torch.Tensor, ...]:\n",
        "    padded_data = list()\n",
        "\n",
        "    for dataframe in dataframe_list:\n",
        "        # Map words and POS labels to indices\n",
        "        dataframe['word_token'] = features_tokenizer(features_vocabulary, dataframe['value'])\n",
        "        dataframe['pos_token'] = labels_tokenizer(labels_vocabulary, dataframe['pos_label'])\n",
        "\n",
        "        # Group by document index and aggregate as lists\n",
        "        grouped_per_doc = dataframe.groupby('sentence_idx').agg(list)\n",
        "\n",
        "        # Extract and pad sequences\n",
        "        x_padded = pad_sequences(grouped_per_doc['word_token'].tolist(), padding_max_length)\n",
        "        y_padded = pad_sequences(grouped_per_doc['pos_token'].tolist(), padding_max_length)\n",
        "\n",
        "        padded_data.append((x_padded, y_padded))\n",
        "\n",
        "    # Unpack the padded data for train, validation, and test sets\n",
        "    x_train, y_train = padded_data[0]\n",
        "    x_val, y_val = padded_data[1]\n",
        "    x_test, y_test = padded_data[2]\n",
        "\n",
        "    return x_train, y_train, x_val, y_val, x_test, y_test\n",
        "\n",
        "x_train, y_train, x_val, y_val, x_test, y_test = train_test_val_splits([train_with_sentences, validation_with_sentences, test_with_sentences], max(train_padding_max_length, validation_padding_max_length), features_vocabulary, labels_vocabulary)"
      ]
    },
    {
      "cell_type": "markdown",
      "metadata": {
        "id": "dKEdFKRwlXWp"
      },
      "source": [
        "# [Task 4 - 1.0 points] Metrics\n",
        "\n",
        "Before training the models, you are tasked to define the evaluation metrics for comparison."
      ]
    },
    {
      "cell_type": "markdown",
      "metadata": {
        "id": "vaCThuLQlXWq"
      },
      "source": [
        "### Instructions\n",
        "\n",
        "* Evaluate your models using macro F1-score, compute over **all** tokens.\n",
        "* **Concatenate** all tokens in a data split to compute the F1-score. (**Hint**: accumulate FP, TP, FN, TN iteratively)\n",
        "* **Do not consider punctuation and symbol classes** $\\rightarrow$ [What is punctuation?](https://en.wikipedia.org/wiki/English_punctuation)"
      ]
    },
    {
      "cell_type": "markdown",
      "metadata": {
        "id": "hwJfumzVlXWr"
      },
      "source": [
        "**Note**: What about OOV tokens?\n",
        "   * All the tokens in the **training** set that are not in GloVe are **not** considered as OOV\n",
        "   * For the remaining tokens (i.e., OOV in the validation and test sets), you have to assign them a **static** embedding.\n",
        "   * You are **free** to define the static embedding using any strategy (e.g., random, neighbourhood, etc...)"
      ]
    },
    {
      "cell_type": "code",
      "source": [
        "def compute_f1(model, x: torch.Tensor, y: torch.Tensor) -> float:\n",
        "\n",
        "  def remove_punctuation_and_symbols(y: torch.Tensor, preds: torch.Tensor) -> Tuple[torch.Tensor, torch.Tensor]:\n",
        "    indices = [idx for idx, token in enumerate(y) if labels_vocabulary[token.item()].isalnum()]\n",
        "    return y[indices], preds[indices]\n",
        "\n",
        "  device = torch.device(\"cuda:0\" if torch.cuda.is_available() else \"cpu\")\n",
        "  preds = infer(model, x, device).cpu()\n",
        "\n",
        "  y, preds = remove_punctuation_and_symbols(y.flatten(), preds.flatten())\n",
        "\n",
        "  return f1_score(y, preds, average=\"macro\")"
      ],
      "metadata": {
        "id": "8j08jiJwQYmd",
        "ExecuteTime": {
          "end_time": "2023-11-25T11:09:08.063937Z",
          "start_time": "2023-11-25T11:09:07.990407Z"
        }
      },
      "execution_count": 16,
      "outputs": []
    },
    {
      "cell_type": "markdown",
      "metadata": {
        "id": "gUePkadNlXWt"
      },
      "source": [
        "# [Task 5 - 1.0 points] Training and Evaluation\n",
        "\n",
        "You are now tasked to train and evaluate the Baseline, Model 1, and Model 2."
      ]
    },
    {
      "cell_type": "markdown",
      "metadata": {
        "id": "ya7j94pjlXWu"
      },
      "source": [
        "### Instructions\n",
        "\n",
        "* Train **all** models on the train set.\n",
        "* Evaluate **all** models on the validation set.\n",
        "* Compute metrics on the validation set.\n",
        "* Pick **at least** three seeds for robust estimation.\n",
        "* Pick the **best** performing model according to the observed validation set performance."
      ]
    },
    {
      "cell_type": "code",
      "source": [
        "def training_model(model, train_dataloader, val_dataloader, num_epochs, loss_func, optimizer, device, patience, min_delta) -> Tuple[float, List[float]]:\n",
        "    total_steps = len(train_dataloader)\n",
        "    best_val_loss = float('inf')\n",
        "    all_loss: List[float] = list()\n",
        "    epochs_no_improve = 0\n",
        "\n",
        "    for epoch in range(num_epochs):\n",
        "        # Training Phase\n",
        "        model.train()\n",
        "        train_loss = 0\n",
        "\n",
        "        for batch_idx, (inputs, labels) in enumerate(train_dataloader):\n",
        "            inputs, labels = inputs.to(device), labels.to(device)\n",
        "\n",
        "            # Forward pass\n",
        "            output = model(inputs)\n",
        "            output = output.view(-1, output.shape[-1])\n",
        "            labels = labels.view(-1)\n",
        "\n",
        "            # Loss calculation and backpropagation\n",
        "            loss = loss_func(output, labels)\n",
        "            optimizer.zero_grad()\n",
        "            loss.backward()\n",
        "            optimizer.step()\n",
        "\n",
        "            train_loss += loss.item()\n",
        "\n",
        "        avg_train_loss = train_loss / total_steps\n",
        "\n",
        "        # Validation Phase\n",
        "        model.eval()\n",
        "        f1_score_val: float = compute_f1(model, x_val, y_val)\n",
        "        val_loss = 0\n",
        "        with torch.no_grad():\n",
        "            for inputs, labels in val_dataloader:\n",
        "                inputs, labels = inputs.to(device), labels.to(device)\n",
        "\n",
        "                # Forward pass\n",
        "                output = model(inputs)\n",
        "                output = output.view(-1, output.shape[-1])\n",
        "                labels = labels.view(-1)\n",
        "\n",
        "                # Loss calculation\n",
        "                loss = loss_func(output, labels)\n",
        "                val_loss += loss.item()\n",
        "\n",
        "        avg_val_loss = val_loss / len(val_dataloader)\n",
        "        all_loss.append(avg_val_loss)\n",
        "        print(f\"Epoch {epoch+1}/{num_epochs}, Train Loss: {avg_train_loss:.4f}, Validation Loss: {avg_val_loss:.4f}, Validation F1-score: {f1_score_val:.2%}\")\n",
        "\n",
        "        # Early Stopping Check\n",
        "        if avg_val_loss < best_val_loss - min_delta:\n",
        "            best_val_loss = avg_val_loss\n",
        "            epochs_no_improve = 0\n",
        "        else:\n",
        "            epochs_no_improve += 1\n",
        "            if epochs_no_improve >= patience:\n",
        "                print(f'Early stopping triggered. Stopping training after {epoch+1} epochs.')\n",
        "                break\n",
        "    return f1_score_val, all_loss"
      ],
      "metadata": {
        "id": "6eBZWMl3HlRW",
        "ExecuteTime": {
          "end_time": "2023-11-25T11:09:34.177548Z",
          "start_time": "2023-11-25T11:09:34.154755Z"
        }
      },
      "execution_count": 17,
      "outputs": []
    },
    {
      "cell_type": "code",
      "source": [
        "def infer(model, input_document, device: str):\n",
        "    model.eval()\n",
        "    with torch.no_grad():\n",
        "        output = model(input_document.to(device))\n",
        "        predictions = torch.argmax(output, dim=-1)  # Get the index of the max log-probability\n",
        "    return predictions"
      ],
      "metadata": {
        "id": "FgAIDfaah3LG"
      },
      "execution_count": 18,
      "outputs": []
    },
    {
      "cell_type": "code",
      "source": [
        "import urllib.request\n",
        "\n",
        "def download_model(model_name, file_id):\n",
        "    url = f'https://drive.google.com/uc?id={file_id}'\n",
        "    output = f\"{model_name}.pt\"\n",
        "    if not os.path.exists(output):\n",
        "        urllib.request.urlretrieve(url, output)\n",
        "    return torch.load(output, map_location=torch.device('cpu'))\n",
        "\n",
        "\n",
        "def download_table(table_name, file_id):\n",
        "    url = f'https://drive.google.com/uc?id={file_id}'\n",
        "    output = f\"{table_name}.csv\"\n",
        "    if not os.path.exists(output):\n",
        "        urllib.request.urlretrieve(url, output)\n",
        "    return pd.read_csv(output)\n"
      ],
      "metadata": {
        "id": "1LfTUIpufDgZ"
      },
      "execution_count": 40,
      "outputs": []
    },
    {
      "cell_type": "code",
      "source": [
        "model_urls = {\n",
        "    \"BaselineModel_42\": \"1UZ1nVYWqs3IGioEwK0huBnYYw0XKLbQR\",\n",
        "    \"Model1_42\": \"1FfrxWF5-Qnm3lMpm3xZNIepumlzYXg2-\",\n",
        "    \"Model2_42\": \"1_Fev2Viwg1_XLwqU206wLnGI7mfTtYuG\",\n",
        "    \"BaselineModel_1024\": \"1EVCVQ1Uy-95XMJ9r0REbPNGZU9fZCK5f\",\n",
        "    \"Model1_1024\": \"1qMJV-9Du0ZMMxSOtTBlzRI-BYaewaJro\",\n",
        "    \"Model2_1024\": \"13Qp98AiyEg8P1dpD0jxt5Fj6Jms5vOfD\",\n",
        "    \"BaselineModel_4096\": \"1GMgey95wN6JIyKQ2xvZVdT7uKNFRKwkq\",\n",
        "    \"Model1_4096\": \"194opT3xs6qVJTFXrR91fGyJaQ9u-Pc4d\",\n",
        "    \"Model2_4096\": \"1fb3OxGiXISiUvyhA3DPnsGTKJvOe5jPE\",\n",
        "}\n",
        "\n",
        "train_models = False\n",
        "seeds: List[int] = [42, 1024, 4096]\n",
        "device = torch.device(\"cuda:0\" if torch.cuda.is_available() else \"cpu\")\n",
        "loss_func = nn.CrossEntropyLoss()\n",
        "epochs: int = 100\n",
        "train_batch_size: int = 32\n",
        "val_batch_size: int = 32\n",
        "lr: float = 1e-4\n",
        "padding_idx: int = 0\n",
        "patience: int = 100\n",
        "min_delta: float = 1e-3\n",
        "\n",
        "if train_models == False:\n",
        "    models_data_file_id = '1YC28hDvB7-gBe3DP9zNK63ME04rGTOMC'\n",
        "    csv_filename = 'models_data.csv'\n",
        "    models_data = download_table(csv_filename, models_data_file_id)\n",
        "    models_data['model_name'] = pd.Series(model_urls.keys())\n",
        "    models_data['model_url'] = pd.Series(model_urls.values())\n",
        "    pre_trained_models = {model: np.nan for model in model_urls.keys()}\n",
        "\n",
        "    for seed in seeds:\n",
        "      if seed is not None:\n",
        "          torch.manual_seed(seed)\n",
        "          np.random.seed(seed)\n",
        "          random.seed(seed)\n",
        "          if torch.cuda.is_available():\n",
        "              torch.cuda.manual_seed_all(seed)\n",
        "\n",
        "      # Create a TensorDataset and DataLoader for training data\n",
        "      train_dataset = TensorDataset(x_train, y_train)\n",
        "      train_dataloader = DataLoader(train_dataset, batch_size=train_batch_size, shuffle=True)\n",
        "\n",
        "      # BaselineModel\n",
        "      baseline_model_name = f\"BaselineModel_{seed}\"\n",
        "      if baseline_model_name in model_urls:\n",
        "          print(f\"Attempting to download {baseline_model_name}...\")\n",
        "          baseline_model = download_model(baseline_model_name, model_urls[baseline_model_name])\n",
        "          print(f\"Successfully downloaded {baseline_model_name}!\")\n",
        "          pre_trained_models[baseline_model_name] = baseline_model\n",
        "\n",
        "      # BaselineModel\n",
        "      model1_name = f\"Model1_{seed}\"\n",
        "      if model1_name in model_urls:\n",
        "          print(f\"Attempting to download {baseline_model_name}...\")\n",
        "          model_1 = download_model(model1_name, model_urls[model1_name])\n",
        "          print(f\"Successfully downloaded {baseline_model_name}!\")\n",
        "          pre_trained_models[model1_name] = model_1\n",
        "\n",
        "      # BaselineModel\n",
        "      model2_name = f\"Model2{seed}\"\n",
        "      if model2_name in model_urls:\n",
        "          print(f\"Attempting to download {model2_name}...\")\n",
        "          model_2 = download_model(model2_name, model_urls[model2_name])\n",
        "          print(f\"Successfully downloaded {baseline_model_name}!\")\n",
        "          pre_trained_models[model2_name] = model_2\n",
        "\n",
        "    best_model_name = models_data[models_data['f1_score'] == models_data['f1_score'].max()]['model_name'].iloc[0]\n",
        "    print(f\"The model with the highest f1_score is: {best_model_name} with a score of {models_data['f1_score'].max():.2%}.\")\n",
        "    if \"BaselineModel\" in best_model_name:\n",
        "      best_model = BaselineModel(features_vocabulary_size, embedding_dim, embedding_dim, labels_vocabulary_size, embedding_tensor, padding_idx=padding_idx).to(device)\n",
        "    elif \"Model1\" in best_model_name:\n",
        "      best_model = Model1(features_vocabulary_size, embedding_dim, embedding_dim, labels_vocabulary_size, embedding_tensor, padding_idx=padding_idx).to(device)\n",
        "    elif \"Model2\" in best_model_name:\n",
        "      best_model = Model2(features_vocabulary_size, embedding_dim, embedding_dim, labels_vocabulary_size, embedding_tensor, padding_idx=padding_idx).to(device)\n",
        "    best_model.load_state_dict(pre_trained_models[best_model_name])\n",
        "    best_model.eval()\n",
        "\n",
        "\n",
        "if train_models == True:\n",
        "\n",
        "  # Create a TensorDataset and DataLoader for validation data\n",
        "  val_dataset = TensorDataset(x_val, y_val)\n",
        "  val_dataloader = DataLoader(val_dataset, batch_size=val_batch_size, shuffle=False)  # Shuffle is usually False for validation/test sets\n",
        "\n",
        "  models: Dict[str, Any] = {\"model\": [], \"random_seed\": [], \"f1_score\": [], \"all_loss\": []}\n",
        "  best_models: Dict[str, Dict[str, Any]] = {\"baseline_model\": {\"model\": None, \"f1_score\": -np.inf}, \"model_1\": {\"model\": None, \"f1_score\": -np.inf}, \"model_2\": {\"model\": None, \"f1_score\": -np.inf}}\n",
        "\n",
        "  for seed in seeds:\n",
        "    if seed is not None:\n",
        "        torch.manual_seed(seed)\n",
        "        np.random.seed(seed)\n",
        "        random.seed(seed)\n",
        "        if torch.cuda.is_available():\n",
        "            torch.cuda.manual_seed_all(seed)\n",
        "\n",
        "    # Create a TensorDataset and DataLoader for training data (put here for setting seed)\n",
        "    train_dataset = TensorDataset(x_train, y_train)\n",
        "    train_dataloader = DataLoader(train_dataset, batch_size=train_batch_size, shuffle=True)\n",
        "\n",
        "    #baseline_model = BaselineModel(features_vocabulary_size, embedding_dim, embedding_dim, labels_vocabulary_size, embedding_tensor, padding_idx=padding_idx).to(device)\n",
        "    #optimizer = optim.Adam(baseline_model.parameters(), lr=lr)\n",
        "    #print(f\"\\nTraining baseline_model with seed {seed}\")\n",
        "    #f1_score_val, all_loss = training_model(baseline_model, train_dataloader, val_dataloader, epochs, loss_func, optimizer, device, patience, min_delta)\n",
        "    #models[\"model\"].append(baseline_model)\n",
        "    #models[\"random_seed\"].append(seed)\n",
        "    #models[\"f1_score\"].append(f1_score_val)\n",
        "    #models[\"all_loss\"].append(all_loss)\n",
        "    #if best_models[\"baseline_model\"][\"f1_score\"] < f1_score_val:\n",
        "    #  best_models[\"baseline_model\"][\"f1_score\"] = f1_score_val\n",
        "    #  best_models[\"baseline_model\"][\"model\"] = baseline_model\n",
        "\n",
        "    model_1 = Model1(features_vocabulary_size, embedding_dim, embedding_dim, labels_vocabulary_size, embedding_tensor, padding_idx=padding_idx).to(device)\n",
        "    optimizer = optim.Adam(model_1.parameters(), lr=lr)\n",
        "    print(f\"\\nTraining model_1 with seed {seed}\")\n",
        "    f1_score_val, all_loss = training_model(model_1, train_dataloader, val_dataloader, epochs, loss_func, optimizer, device, patience, min_delta)\n",
        "    models[\"model\"].append(model_1)\n",
        "    models[\"random_seed\"].append(seed)\n",
        "    models[\"f1_score\"].append(f1_score_val)\n",
        "    models[\"all_loss\"].append(all_loss)\n",
        "    if best_models[\"model_1\"][\"f1_score\"] < f1_score_val:\n",
        "      best_models[\"model_1\"][\"f1_score\"] = f1_score_val\n",
        "      best_models[\"model_1\"][\"model\"] = model_1\n",
        "\n",
        "    model_2 = Model2(features_vocabulary_size, embedding_dim, embedding_dim, labels_vocabulary_size, embedding_tensor, padding_idx=padding_idx).to(device)\n",
        "    optimizer = optim.Adam(model_2.parameters(), lr=lr)\n",
        "    print(f\"\\nTraining model_2 with seed {seed}\")\n",
        "    f1_score_val, all_loss = training_model(model_2, train_dataloader, val_dataloader, epochs, loss_func, optimizer, device, patience, min_delta)\n",
        "    models[\"model\"].append(model_2)\n",
        "    models[\"random_seed\"].append(seed)\n",
        "    models[\"f1_score\"].append(f1_score_val)\n",
        "    models[\"all_loss\"].append(all_loss)\n",
        "    if best_models[\"model_2\"][\"f1_score\"] < f1_score_val:\n",
        "      best_models[\"model_2\"][\"f1_score\"] = f1_score_val\n",
        "    best_models[\"model_2\"][\"model\"] = model_2\n",
        "\n",
        "  best_model = max(best_models.items(), key=lambda x: x[1][\"f1_score\"])\n",
        "  print(f\"The model with the highest f1_score is: {best_model[0]} with a score of {best_model[1]['f1_score']:.2%}.\")\n",
        "  best_model = best_model[1][\"model\"]\n"
      ],
      "metadata": {
        "colab": {
          "base_uri": "https://localhost:8080/"
        },
        "id": "JlFrdjzhhEJs",
        "outputId": "1752027e-f0a5-491f-d125-39579598930e"
      },
      "execution_count": 41,
      "outputs": [
        {
          "output_type": "stream",
          "name": "stdout",
          "text": [
            "Attempting to download BaselineModel_42...\n",
            "Successfully downloaded BaselineModel_42!\n",
            "Attempting to download BaselineModel_42...\n",
            "Successfully downloaded BaselineModel_42!\n",
            "Attempting to download BaselineModel_1024...\n",
            "Successfully downloaded BaselineModel_1024!\n",
            "Attempting to download BaselineModel_1024...\n",
            "Successfully downloaded BaselineModel_1024!\n",
            "Attempting to download BaselineModel_4096...\n",
            "Successfully downloaded BaselineModel_4096!\n",
            "Attempting to download BaselineModel_4096...\n",
            "Successfully downloaded BaselineModel_4096!\n",
            "The model with the highest f1_score is: BaselineModel_4096 with a score of 65.74%.\n"
          ]
        }
      ]
    },
    {
      "cell_type": "markdown",
      "metadata": {
        "id": "W-rqlmZ8lXWv"
      },
      "source": [
        "# [Task 6 - 1.0 points] Error Analysis\n",
        "\n",
        "You are tasked to evaluate your best performing model."
      ]
    },
    {
      "cell_type": "markdown",
      "metadata": {
        "id": "NuGCPAfZlXWx"
      },
      "source": [
        "### Instructions\n",
        "\n",
        "* Compare the errors made on the validation and test sets.\n",
        "* Aggregate model errors into categories (if possible)\n",
        "* Comment the about errors and propose possible solutions on how to address them."
      ]
    },
    {
      "cell_type": "code",
      "execution_count": 42,
      "metadata": {
        "id": "BUCMrnjXTfAE",
        "colab": {
          "base_uri": "https://localhost:8080/"
        },
        "outputId": "e2988497-bd70-4214-88e3-34af9aec470f"
      },
      "outputs": [
        {
          "output_type": "stream",
          "name": "stdout",
          "text": [
            "Ratio of correct tags: 96.4%\n",
            "\n",
            "+----------+---------+---------+----------+---------+---------+---------+----------+---------+---------+----------+----------+----------+----------+----------+----------+----------+----------+----------+--------------+----------+----------+----------+----------+----------+----------+----------+----------+----------+\n",
            "|    \\     | Token 1 | Token 2 | Token 3  | Token 4 | Token 5 | Token 6 | Token 7  | Token 8 | Token 9 | Token 10 | Token 11 | Token 12 | Token 13 | Token 14 | Token 15 | Token 16 | Token 17 | Token 18 |   Token 19   | Token 20 | Token 21 | Token 22 | Token 23 | Token 24 | Token 25 | Token 26 | Token 27 | Token 28 |\n",
            "+----------+---------+---------+----------+---------+---------+---------+----------+---------+---------+----------+----------+----------+----------+----------+----------+----------+----------+----------+--------------+----------+----------+----------+----------+----------+----------+----------+----------+----------+\n",
            "| Document |   mr.   |  <UNK>  | declined |    to   |  <UNK>  |   what  | prompted |   the   |  recent |  moves   |    ,     |  saying  |   they   |   are    |  meant   |   only   |    to    |  <UNK>   | shareholders |   when   |    ``    |   the    | company  |    is    |    on    |    a     |   roll   |    .     |\n",
            "|  Target  |   NNP   |   NNP   |   VBD    |    TO   |    VB   |    WP   |   VBD    |    DT   |    JJ   |   NNS    |    ,     |   VBG    |   PRP    |   VBP    |   VBN    |    RB    |    TO    |    VB    |     NNS      |   WRB    |    ``    |    DT    |    NN    |   VBZ    |    IN    |    DT    |    NN    |    .     |\n",
            "|   Pred   |   NNP   |   \u001b[91mVBN\u001b[0m   |   VBD    |    TO   |    VB   |    WP   |   VBD    |    DT   |    JJ   |   NNS    |    ,     |   VBG    |   PRP    |   VBP    |   VBN    |    RB    |    TO    |    VB    |     NNS      |   WRB    |    ``    |    DT    |    NN    |   VBZ    |    IN    |    DT    |    NN    |    .     |\n",
            "+----------+---------+---------+----------+---------+---------+---------+----------+---------+---------+----------+----------+----------+----------+----------+----------+----------+----------+----------+--------------+----------+----------+----------+----------+----------+----------+----------+----------+----------+\n"
          ]
        }
      ],
      "source": [
        "def print_error_analysis(model: nn.Module, x: np.array, y:np.array, idx: int, pad_token_idx: int = 0) -> None:\n",
        "  pred_pos_tags = infer(model, x[idx], device).cpu()\n",
        "  target_pos_tags: torch.Tensor = y[idx].cpu()\n",
        "\n",
        "  # Take the tokens that shouldn't be padding\n",
        "  pred_pos_tags_no_padding: torch.Tensor = pred_pos_tags[target_pos_tags != pad_token_idx]\n",
        "  target_pos_tags_no_padding: torch.Tensor = target_pos_tags[target_pos_tags != pad_token_idx]\n",
        "\n",
        "  document: List[str] = [features_vocabulary[index.item()] for index in x[idx][target_pos_tags != pad_token_idx]]\n",
        "  target_tags: List[str] = [labels_vocabulary[index.item()] for index in target_pos_tags_no_padding]\n",
        "\n",
        "  pred_tags: List[str] = [\"\\033[91m{}\\033[0m\".format(pred_tag) if pred_tag != target_tags[i] else pred_tag for i, pred_tag in enumerate(labels_vocabulary[index.item()] for index in pred_pos_tags_no_padding)]\n",
        "\n",
        "  ratio_correct_tags: float = (sum(target_pos_tags_no_padding == pred_pos_tags_no_padding) / len(target_pos_tags_no_padding)).item()\n",
        "  print(f\"Ratio of correct tags: {ratio_correct_tags:.1%}\\n\")\n",
        "\n",
        "  table = PrettyTable()\n",
        "  table.field_names = [\"\\\\\"] + [f\"Token {i+1}\" for i in range(len(document))]\n",
        "\n",
        "  table.add_row([\"Document\"] + [col.strip() for col in document])\n",
        "  table.add_row([\"Target\"] + [col.strip() for col in target_tags])\n",
        "  table.add_row([\"Pred\"] + [col.strip() for col in pred_tags])\n",
        "  print(table)\n",
        "\n",
        "print_error_analysis(best_model, x_test, y_test, idx=5)"
      ]
    },
    {
      "cell_type": "code",
      "source": [
        "def performance_by_class_frequency(model, X, Y, labels_vocabulary, pad_token_idx=0):\n",
        "    filtered_preds = []\n",
        "    filtered_targets = []\n",
        "\n",
        "    # Iterate over each example in the dataset\n",
        "    for x, y in zip(X, Y):\n",
        "        # Generate predictions\n",
        "        preds = infer(model, x, device).cpu()\n",
        "\n",
        "        # Filter predictions and targets together, excluding padding and missing labels\n",
        "        for pred, target in zip(preds, y):\n",
        "            target_idx = target.item()\n",
        "            pred_idx = pred.item()\n",
        "            if target_idx != pad_token_idx and target_idx in labels_vocabulary and labels_vocabulary[target_idx].isalnum():\n",
        "                filtered_preds.append(pred_idx)\n",
        "                filtered_targets.append(target_idx)\n",
        "\n",
        "    # Calculate class frequencies for filtered targets\n",
        "    class_frequencies = Counter(filtered_targets)\n",
        "\n",
        "    # Identify present classes in filtered targets and predictions\n",
        "    present_classes = sorted(set(filtered_targets + filtered_preds))\n",
        "    filtered_labels = [labels_vocabulary[i] for i in present_classes if i in labels_vocabulary]\n",
        "\n",
        "    # Performance metrics by class\n",
        "    report = classification_report(filtered_targets, filtered_preds, target_names=filtered_labels, zero_division=0)\n",
        "    report_dict = classification_report(filtered_targets, filtered_preds, target_names=filtered_labels, zero_division=0, output_dict=True)\n",
        "\n",
        "    overall_precision = precision_score(filtered_targets, filtered_preds, average='macro')\n",
        "    overall_recall = recall_score(filtered_targets, filtered_preds, average='macro')\n",
        "    overall_f1_score = f1_score(filtered_targets, filtered_preds, average='macro')\n",
        "\n",
        "    print(f\"Overall macro precision: {overall_precision:.2%}\")\n",
        "    print(f\"Overall macro recall: {overall_recall:.2%}\")\n",
        "    print(f\"Overall macro F1-score: {overall_f1_score:.2%}\")\n",
        "\n",
        "    return report, report_dict, class_frequencies"
      ],
      "metadata": {
        "id": "X_e4xLYnYa12",
        "ExecuteTime": {
          "end_time": "2023-11-25T11:24:53.715201Z",
          "start_time": "2023-11-25T11:24:53.673975Z"
        }
      },
      "execution_count": 43,
      "outputs": []
    },
    {
      "cell_type": "code",
      "source": [
        "def extract_metrics(report):\n",
        "    metrics_dict = {}\n",
        "    for label, metrics in report.items():\n",
        "        if label in ['accuracy', 'macro avg', 'weighted avg']:\n",
        "            continue\n",
        "        metrics_dict[label] = {\n",
        "            'precision': metrics['precision'],\n",
        "            'recall': metrics['recall'],\n",
        "            'f1-score': metrics['f1-score']\n",
        "        }\n",
        "    return metrics_dict\n",
        "\n",
        "def correlate_metrics_with_frequency(report_dict, class_frequencies):\n",
        "    metrics_dict = extract_metrics(report_dict)\n",
        "\n",
        "    # Prepare data for correlation\n",
        "    data = []\n",
        "    for label, metrics in metrics_dict.items():\n",
        "        if label in class_frequencies:\n",
        "            data.append({\n",
        "                'Class': label,\n",
        "                'Precision': metrics['precision'],\n",
        "                'Recall': metrics['recall'],\n",
        "                'F1-score': metrics['f1-score'],\n",
        "                'Frequency': class_frequencies[label]\n",
        "            })\n",
        "\n",
        "    df = pd.DataFrame(data)\n",
        "\n",
        "    # Calculate correlations\n",
        "    precision_corr = df[['Precision', 'Frequency']].corr().iloc[0, 1]\n",
        "    recall_corr = df[['Recall', 'Frequency']].corr().iloc[0, 1]\n",
        "    f1_score_corr = df[['F1-score', 'Frequency']].corr().iloc[0, 1]\n",
        "\n",
        "    return df.sort_values(by='Frequency', ascending=False), precision_corr, recall_corr, f1_score_corr"
      ],
      "metadata": {
        "id": "kzqQH9vX0ZDX"
      },
      "execution_count": 44,
      "outputs": []
    },
    {
      "cell_type": "code",
      "source": [
        "print(\"Test Set\")\n",
        "report, report_dict, class_frequencies = performance_by_class_frequency(best_model, x_test, y_test, labels_vocabulary)\n",
        "_, precision_corr, recall_corr, f1_score_corr = correlate_metrics_with_frequency(report_dict, {labels_vocabulary[token]: class_frequencies[token] for token in [value for value in class_frequencies]})\n",
        "print(report)\n",
        "print(f\"Correlation between class frequency and Precision in test set: {precision_corr}\\n\")\n",
        "print(f\"Correlation between class frequency and Recall in test set: {recall_corr}\\n\")\n",
        "print(f\"Correlation between class frequency and F1-score in test set: {f1_score_corr}\")"
      ],
      "metadata": {
        "id": "1KLGkEw62P5W",
        "colab": {
          "base_uri": "https://localhost:8080/"
        },
        "outputId": "e1b5b1ba-57b5-4535-f2be-4109ecb27405"
      },
      "execution_count": 45,
      "outputs": [
        {
          "output_type": "stream",
          "name": "stdout",
          "text": [
            "Test Set\n",
            "Overall macro precision: 80.95%\n",
            "Overall macro recall: 78.81%\n",
            "Overall macro F1-score: 78.28%\n",
            "              precision    recall  f1-score   support\n",
            "\n",
            "          CC       0.99      1.00      1.00       366\n",
            "          CD       0.99      0.76      0.86       858\n",
            "          DT       0.99      0.99      0.99      1335\n",
            "          EX       0.83      1.00      0.91         5\n",
            "          IN       0.99      0.96      0.97      1630\n",
            "          JJ       0.68      0.85      0.76       918\n",
            "         JJR       0.80      0.75      0.77        59\n",
            "         JJS       0.94      0.97      0.95        31\n",
            "          MD       0.97      1.00      0.99       167\n",
            "          NN       0.90      0.80      0.85      2383\n",
            "         NNP       0.94      0.62      0.75      1504\n",
            "        NNPS       0.00      0.00      0.00        44\n",
            "         NNS       0.91      0.79      0.85       941\n",
            "         PDT       0.00      0.00      0.00         4\n",
            "         POS       0.99      1.00      1.00       152\n",
            "         PRP       1.00      0.99      1.00       192\n",
            "          RB       0.83      0.86      0.85       381\n",
            "         RBR       0.38      0.33      0.36        15\n",
            "         RBS       1.00      0.33      0.50         3\n",
            "          RP       0.48      0.76      0.59        33\n",
            "          TO       1.00      1.00      1.00       386\n",
            "          VB       0.82      0.95      0.88       403\n",
            "         VBD       0.90      0.86      0.88       634\n",
            "         VBG       0.89      0.64      0.74       221\n",
            "         VBN       0.23      0.83      0.36       366\n",
            "         VBP       0.96      0.80      0.87       134\n",
            "         VBZ       0.95      0.89      0.92       280\n",
            "         WDT       0.91      0.94      0.92        84\n",
            "          WP       1.00      1.00      1.00        20\n",
            "         WRB       1.00      0.96      0.98        24\n",
            "\n",
            "    accuracy                           0.85     13573\n",
            "   macro avg       0.81      0.79      0.78     13573\n",
            "weighted avg       0.90      0.85      0.86     13573\n",
            "\n",
            "Correlation between class frequency and Precision in test set: 0.2425993973864833\n",
            "\n",
            "Correlation between class frequency and Recall in test set: 0.1640464777630585\n",
            "\n",
            "Correlation between class frequency and F1-score in test set: 0.22270190349212357\n"
          ]
        },
        {
          "output_type": "stream",
          "name": "stderr",
          "text": [
            "/usr/local/lib/python3.10/dist-packages/sklearn/metrics/_classification.py:1344: UndefinedMetricWarning: Precision is ill-defined and being set to 0.0 in labels with no predicted samples. Use `zero_division` parameter to control this behavior.\n",
            "  _warn_prf(average, modifier, msg_start, len(result))\n"
          ]
        }
      ]
    },
    {
      "cell_type": "code",
      "source": [
        "print(\"Validation Set\")\n",
        "report, report_dict, class_frequencies = performance_by_class_frequency(best_model, x_val, y_val, labels_vocabulary)\n",
        "_, precision_corr, recall_corr, f1_score_corr = correlate_metrics_with_frequency(report_dict, {labels_vocabulary[token]: class_frequencies[token] for token in [value for value in class_frequencies]})\n",
        "print(report)\n",
        "print(f\"Correlation between class frequency and Precision in validation set: {precision_corr}\\n\")\n",
        "print(f\"Correlation between class frequency and Recall in validation set: {recall_corr}\\n\")\n",
        "print(f\"Correlation between class frequency and F1-score in validation set: {f1_score_corr}\")"
      ],
      "metadata": {
        "id": "A86Kjen4uvjr",
        "colab": {
          "base_uri": "https://localhost:8080/"
        },
        "outputId": "2c6ec4ba-bfc5-4d85-8488-bf1d1cfa401b"
      },
      "execution_count": 46,
      "outputs": [
        {
          "output_type": "stream",
          "name": "stdout",
          "text": [
            "Validation Set\n",
            "Overall macro precision: 68.10%\n",
            "Overall macro recall: 66.02%\n",
            "Overall macro F1-score: 65.74%\n",
            "              precision    recall  f1-score   support\n",
            "\n",
            "           :       0.00      0.00      0.00         0\n",
            "          CC       1.00      0.99      0.99       758\n",
            "          CD       0.99      0.74      0.84      1249\n",
            "          DT       0.99      0.99      0.99      2754\n",
            "          EX       0.92      1.00      0.96        34\n",
            "          FW       0.00      0.00      0.00         2\n",
            "          IN       0.99      0.96      0.98      3275\n",
            "          JJ       0.69      0.83      0.76      1924\n",
            "         JJR       0.89      0.72      0.79       165\n",
            "         JJS       0.81      0.90      0.85        58\n",
            "          LS       0.00      0.00      0.00         3\n",
            "          MD       1.00      0.97      0.99       347\n",
            "          NN       0.86      0.83      0.85      4513\n",
            "         NNP       0.92      0.64      0.75      2704\n",
            "        NNPS       0.00      0.00      0.00       105\n",
            "         NNS       0.93      0.73      0.82      2102\n",
            "         PDT       0.00      0.00      0.00        14\n",
            "         POS       0.99      0.99      0.99       269\n",
            "         PRP       1.00      0.99      0.99       570\n",
            "        PRP$       0.00      0.00      0.00         0\n",
            "          RB       0.85      0.86      0.85       951\n",
            "         RBR       0.51      0.54      0.53        35\n",
            "         RBS       0.50      0.08      0.13        13\n",
            "          RP       0.46      0.70      0.56        43\n",
            "          TO       1.00      1.00      1.00       765\n",
            "          UH       0.00      0.00      0.00         2\n",
            "          VB       0.82      0.86      0.84       956\n",
            "         VBD       0.86      0.84      0.85       861\n",
            "         VBG       0.90      0.62      0.73       476\n",
            "         VBN       0.24      0.85      0.38       737\n",
            "         VBP       0.90      0.77      0.83       460\n",
            "         VBZ       0.96      0.84      0.89       712\n",
            "         WDT       0.89      0.89      0.89       157\n",
            "          WP       0.96      1.00      0.98        80\n",
            "         WRB       1.00      1.00      1.00        62\n",
            "\n",
            "    accuracy                           0.84     27156\n",
            "   macro avg       0.68      0.66      0.66     27156\n",
            "weighted avg       0.89      0.84      0.86     27156\n",
            "\n",
            "Correlation between class frequency and Precision in validation set: 0.3577762688973431\n",
            "\n",
            "Correlation between class frequency and Recall in validation set: 0.3111837305304964\n",
            "\n",
            "Correlation between class frequency and F1-score in validation set: 0.34335609751903395\n"
          ]
        },
        {
          "output_type": "stream",
          "name": "stderr",
          "text": [
            "/usr/local/lib/python3.10/dist-packages/sklearn/metrics/_classification.py:1344: UndefinedMetricWarning: Precision is ill-defined and being set to 0.0 in labels with no predicted samples. Use `zero_division` parameter to control this behavior.\n",
            "  _warn_prf(average, modifier, msg_start, len(result))\n",
            "/usr/local/lib/python3.10/dist-packages/sklearn/metrics/_classification.py:1344: UndefinedMetricWarning: Recall is ill-defined and being set to 0.0 in labels with no true samples. Use `zero_division` parameter to control this behavior.\n",
            "  _warn_prf(average, modifier, msg_start, len(result))\n"
          ]
        }
      ]
    },
    {
      "cell_type": "code",
      "source": [
        "# Flatten the tensors and filter tokens as per your criteria\n",
        "y_val_flatten_tokens = [labels_vocabulary[int(token)] for token in y_val.flatten()\n",
        "                        if (int(token) != 0) & (int(token) in labels_vocabulary) & (labels_vocabulary[int(token)].isalnum())]\n",
        "y_test_flatten_tokens = [labels_vocabulary[int(token)] for token in y_test.flatten()\n",
        "                         if (int(token) != 0) & (int(token) in labels_vocabulary) & (labels_vocabulary[int(token)].isalnum())]\n",
        "y_train_flatten_tokens = [labels_vocabulary[int(token)] for token in y_train.flatten()\n",
        "                         if (int(token) != 0) & (int(token) in labels_vocabulary) & (labels_vocabulary[int(token)].isalnum())]\n",
        "\n",
        "# Count frequencies of each class in both y_val and y_test\n",
        "y_val_counts = Counter(y_val_flatten_tokens)\n",
        "y_test_counts = Counter(y_test_flatten_tokens)\n",
        "y_train_counts = Counter(y_train_flatten_tokens)\n",
        "\n",
        "\n",
        "# Extract labels and their corresponding counts\n",
        "labels = sorted(set(y_val_flatten_tokens + y_test_flatten_tokens + y_train_flatten_tokens))\n",
        "y_val_freq = [y_val_counts[label] for label in labels]\n",
        "y_test_freq = [y_test_counts[label] for label in labels]\n",
        "y_train_freq = [y_train_counts[label] for label in labels]\n",
        "\n",
        "# X locations for the groups\n",
        "index = np.arange(len(labels))\n",
        "\n",
        "# Plotting\n",
        "plt.figure(figsize=(15, 6))\n",
        "bar_width = 0.35\n",
        "plt.bar(index - bar_width, y_train_freq, bar_width, color='orange', alpha=0.7, label='y_train')\n",
        "plt.bar(index, y_val_freq, bar_width, color='blue', alpha=0.7, label='y_val')\n",
        "plt.bar(index + bar_width, y_test_freq, bar_width, color='red', alpha=0.7, label='y_test')\n",
        "\n",
        "plt.xticks(index, labels, rotation='vertical')\n",
        "plt.xlabel('Class')\n",
        "plt.ylabel('Frequency')\n",
        "plt.title('Comparison of Class Frequencies in y_train, y_val, and y_test')\n",
        "plt.legend()\n",
        "\n",
        "plt.show()"
      ],
      "metadata": {
        "id": "zP_ULX7r5Tmw",
        "colab": {
          "base_uri": "https://localhost:8080/",
          "height": 457
        },
        "outputId": "2addc2ca-fcf8-439d-fa6d-2a82becc7539"
      },
      "execution_count": 47,
      "outputs": [
        {
          "output_type": "display_data",
          "data": {
            "text/plain": [
              "<Figure size 1500x600 with 1 Axes>"
            ],
            "image/png": "[encoded data removed]"
          },
          "metadata": {}
        }
      ]
    },
    {
      "cell_type": "code",
      "source": [
        "def analyze_errors(model: nn.Module, x: np.array, y:np.array, pad_token_idx: int = 0):\n",
        "    all_errors = []\n",
        "    total_predictions = 0\n",
        "\n",
        "    for idx in range(len(x)):\n",
        "        pred_pos_tags = infer(model, x[idx], device).cpu()\n",
        "        target_pos_tags: torch.Tensor = y[idx].cpu()\n",
        "\n",
        "        # Filter out padding\n",
        "        non_padding_mask = target_pos_tags != pad_token_idx\n",
        "        pred_pos_tags_no_padding = pred_pos_tags[non_padding_mask]\n",
        "        target_pos_tags_no_padding = target_pos_tags[non_padding_mask]\n",
        "\n",
        "        # Update total predictions\n",
        "        total_predictions += len(target_pos_tags_no_padding)\n",
        "\n",
        "        # Accumulate errors\n",
        "        for target_tag, pred_tag in zip(target_pos_tags_no_padding, pred_pos_tags_no_padding):\n",
        "            if target_tag != pred_tag:\n",
        "                all_errors.append((labels_vocabulary[target_tag.item()], labels_vocabulary[pred_tag.item()]))\n",
        "\n",
        "    return Counter(all_errors), total_predictions\n",
        "\n",
        "val_errors, val_total = analyze_errors(best_model, x_val, y_val)\n",
        "test_errors, test_total = analyze_errors(best_model, x_test, y_test)"
      ],
      "metadata": {
        "id": "WHRqBLKq9xyM"
      },
      "execution_count": 48,
      "outputs": []
    },
    {
      "cell_type": "code",
      "source": [
        "def display_error_percentages(error_counts, total_predictions, num_common=10):\n",
        "    print(f\"\\nTop {num_common} Error Percentages:\")\n",
        "    for error, count in error_counts.most_common(num_common):\n",
        "        percentage = (count / total_predictions) * 100\n",
        "        print(f\"{error}: {percentage:.2f}%\")\n",
        "\n",
        "display_error_percentages(val_errors, val_total)\n",
        "display_error_percentages(test_errors, test_total)"
      ],
      "metadata": {
        "id": "zw7ehmUM9z-d",
        "colab": {
          "base_uri": "https://localhost:8080/"
        },
        "outputId": "8b694c09-8f62-410b-aff4-bf051d93acc0"
      },
      "execution_count": 49,
      "outputs": [
        {
          "output_type": "stream",
          "name": "stdout",
          "text": [
            "\n",
            "Top 10 Error Percentages:\n",
            "('NN', 'VBN'): 1.29%\n",
            "('NNP', 'VBN'): 1.24%\n",
            "('NNS', 'VBN'): 1.16%\n",
            "('NNP', 'NN'): 0.98%\n",
            "('NN', 'JJ'): 0.68%\n",
            "('NNP', 'JJ'): 0.67%\n",
            "('JJ', 'VBN'): 0.61%\n",
            "('CD', 'VBN'): 0.52%\n",
            "('VBD', 'VBN'): 0.37%\n",
            "('VBG', 'VBN'): 0.36%\n",
            "\n",
            "Top 10 Error Percentages:\n",
            "('NNP', 'VBN'): 1.81%\n",
            "('NN', 'VBN'): 1.54%\n",
            "('NNS', 'VBN'): 0.92%\n",
            "('CD', 'VBN'): 0.86%\n",
            "('NN', 'JJ'): 0.86%\n",
            "('NNP', 'JJ'): 0.80%\n",
            "('NNP', 'NN'): 0.73%\n",
            "('JJ', 'VBN'): 0.52%\n",
            "('VBD', 'VBN'): 0.48%\n",
            "('CD', 'JJ'): 0.23%\n"
          ]
        }
      ]
    },
    {
      "cell_type": "code",
      "source": [
        "def compare_error_percentages(val_errors, val_total, test_errors, test_total, num_common=10):\n",
        "    print(f\"\\nComparison of Top {num_common} Errors (Validation vs Test):\")\n",
        "    common_errors = set([error for error, _ in val_errors.most_common(num_common)] +\n",
        "                        [error for error, _ in test_errors.most_common(num_common)])\n",
        "\n",
        "    for error in common_errors:\n",
        "        val_percentage = (val_errors[error] / val_total) * 100\n",
        "        test_percentage = (test_errors[error] / test_total) * 100\n",
        "        print(f\"{error} - Validation: {val_percentage:.2f}%, Test: {test_percentage:.2f}%\")\n",
        "\n",
        "compare_error_percentages(val_errors, val_total, test_errors, test_total)"
      ],
      "metadata": {
        "id": "pyeAzTb791A7",
        "colab": {
          "base_uri": "https://localhost:8080/"
        },
        "outputId": "d9abe7ae-9b81-4d6c-c4a3-aade3b1b8649"
      },
      "execution_count": 50,
      "outputs": [
        {
          "output_type": "stream",
          "name": "stdout",
          "text": [
            "\n",
            "Comparison of Top 10 Errors (Validation vs Test):\n",
            "('VBD', 'VBN') - Validation: 0.37%, Test: 0.48%\n",
            "('VBG', 'VBN') - Validation: 0.36%, Test: 0.22%\n",
            "('NNP', 'NN') - Validation: 0.98%, Test: 0.73%\n",
            "('NN', 'VBN') - Validation: 1.29%, Test: 1.54%\n",
            "('NN', 'JJ') - Validation: 0.68%, Test: 0.86%\n",
            "('NNP', 'VBN') - Validation: 1.24%, Test: 1.81%\n",
            "('NNP', 'JJ') - Validation: 0.67%, Test: 0.80%\n",
            "('NNS', 'VBN') - Validation: 1.16%, Test: 0.92%\n",
            "('JJ', 'VBN') - Validation: 0.61%, Test: 0.52%\n",
            "('CD', 'VBN') - Validation: 0.52%, Test: 0.86%\n",
            "('CD', 'JJ') - Validation: 0.34%, Test: 0.23%\n"
          ]
        }
      ]
    },
    {
      "cell_type": "markdown",
      "source": [
        "## What is the reason for the higher f1-score on the test set compared to the one observed on the validation set?\n",
        "This can happen due to several reasons:\n",
        "1. Data Distribution Differences: If the validation and test sets are not sampled from the same distribution or if they have different characteristics, the model might perform differently on these sets. This is especially true if the test set is somehow easier for the model to predict, or more representative of the data the model was trained on.\n",
        "2. Overfitting to Validation Set: If you use the validation set extensively for hyperparameter tuning or model selection, there's a risk of overfitting to the validation set. This means the model is tuned specifically to perform well on the validation data, which might not generalize as well to the test set (or any unseen data).\n",
        "3. Size of the Datasets: If the validation set is much smaller than the test set, the evaluation on the validation set might be less reliable due to higher variance in the performance measure. This can lead to situations where the model appears to perform worse on the validation set simply due to the statistical noise inherent in a smaller sample size.\n",
        "4. Random Variation: Especially in cases where datasets are small, random variation can lead to differences in performance metrics. This is more pronounced in metrics like F1-score, which can be sensitive to the balance between precision and recall.\n",
        "5. Model Instability: If the model is highly sensitive to the input data (which can happen with complex models like deep neural networks), small differences in the data distribution between the validation and test sets can lead to significant differences in performance.\n",
        "6. Data Leakage: If there is some form of data leakage in the test set (but not in the validation set), the model might perform artificially well on the test set. Data leakage refers to a situation where information that should not be available during the training process inadvertently influences the model.\n",
        "It's important to ensure that both validation and test sets are representative of the real-world data the model is expected to encounter, and to be cautious about over-tuning models based on validation set performance. Regular checks for data consistency and distribution similarity can help mitigate some of these issues."
      ],
      "metadata": {
        "id": "aQRAGoueLAp5"
      }
    },
    {
      "cell_type": "markdown",
      "source": [
        "# Error Analysis Report\n",
        "\n",
        "## Overview\n",
        "The analysis of the model's performance on the test and validation sets reveals insightful patterns and discrepancies in error rates. By focusing on the top 10 error percentages and their comparisons, we gain a clearer understanding of the model's strengths and weaknesses.\n",
        "\n",
        "## Common Error Patterns\n",
        "### Misclassification of Nouns (NN, NNP, NNS) as Verbs (VBN) and Adjectives (JJ):\n",
        "- This error type is prevalent in both sets, with NN to VBN being the most frequent error in validation and NNP to VBN in the test set.\n",
        "- The confusion between nouns and past participles (VBN) suggests a challenge in contextual understanding, especially in differentiating between nominalized verbs and their noun counterparts.\n",
        "\n",
        "### Misclassification of CD (Cardinal Numbers):\n",
        "- Notably, CD to VBN and CD to JJ are common errors, indicating difficulty in distinguishing numbers from verbs and adjectives.\n",
        "\n",
        "### Verb Confusions (VBG to VBN, VBD to VBN):\n",
        "- These errors suggest challenges in differentiating verb tenses and forms.\n",
        "\n",
        "## Correlation with Class Frequency\n",
        "The correlations between class frequency and performance metrics (precision, recall, F1-score) are relatively low. This suggests that class frequency is not a major determinant of these errors, pointing towards other factors such as contextual complexity or inherent model limitations.\n",
        "\n",
        "## Proposed Solutions\n",
        "### Contextual Enhancement:\n",
        "- Improve the model's understanding of context. Techniques like contextual embedding (e.g., BERT-based models) can be more effective in capturing the nuanced usage of words in different contexts.\n",
        "- Increasing the depth of the LSTM layers or experimenting with attention mechanisms might help the model capture more complex dependencies.\n",
        "\n",
        "### Data Augmentation:\n",
        "- Augmenting the training data with more examples of commonly confused pairs (like NN/VBN, CD/JJ) might help the model learn to distinguish these better.\n",
        "- Using synonym augmentation or back-translation could introduce more varied sentence structures, aiding in better generalization.\n",
        "\n",
        "### Class Imbalance Mitigation:\n",
        "- Address potential class imbalances, even though the correlation is low. Techniques such as oversampling rare classes or using class-weighted loss functions might be beneficial.\n",
        "\n",
        "### Error Analysis and Manual Review:\n",
        "- Conduct a thorough qualitative analysis of the errors. Manually reviewing misclassified instances can provide insights that are not evident from quantitative analysis alone.\n",
        "- Custom rules or post-processing steps could be introduced to handle specific, identifiable error patterns.\n",
        "\n",
        "### Model Experimentation:\n",
        "- Experiment with different model architectures (e.g., transformers, GRUs) or ensemble methods to see if they offer improved performance on these error types.\n",
        "\n",
        "### Hyperparameter Tuning:\n",
        "- Fine-tune hyperparameters such as learning rate, batch size, and dropout rates to optimize the model's performance.\n",
        "\n",
        "## Conclusion\n",
        "The model demonstrates a notable proficiency in tagging parts of speech but struggles with specific confusions, particularly in differentiating between nouns, verbs, and adjectives. Addressing these issues through a combination of data, model architecture, and contextual understanding enhancements could lead to significant improvements in the model's performance.\n"
      ],
      "metadata": {
        "id": "-vHzEjgtxGRe"
      }
    },
    {
      "cell_type": "markdown",
      "metadata": {
        "id": "uOwnyCsslXWy"
      },
      "source": [
        "# [Task 7 - 1.0 points] Report\n",
        "\n",
        "Wrap up your experiment in a short report (up to 2 pages)."
      ]
    },
    {
      "cell_type": "markdown",
      "metadata": {
        "id": "KUgujR__lXWz"
      },
      "source": [
        "### Instructions\n",
        "\n",
        "* Use the NLP course report template.\n",
        "* Summarize each task in the report following the provided template."
      ]
    },
    {
      "cell_type": "markdown",
      "metadata": {
        "id": "rlYwyuuqlXW0"
      },
      "source": [
        "### Recommendations\n",
        "\n",
        "The report is not a copy-paste of graphs, tables, and command outputs.\n",
        "\n",
        "* Summarize classification performance in Table format.\n",
        "* **Do not** report command outputs or screenshots.\n",
        "* Report learning curves to Figure format.\n",
        "* The error analysis section should summarize your findings."
      ]
    },
    {
      "cell_type": "markdown",
      "metadata": {
        "id": "jEcuGWVglXW2"
      },
      "source": [
        "# Submission\n",
        "\n",
        "* **Submit** your report in PDF format.\n",
        "* **Submit** your python notebook.\n",
        "* Make sure your notebook is **well organized**, with no temporary code, commented sections, tests, etc...\n",
        "* You can upload **model weights** in a cloud repository and report the link in the report."
      ]
    },
    {
      "cell_type": "markdown",
      "metadata": {
        "id": "J55UYCbIlXW4"
      },
      "source": [
        "# FAQ\n",
        "\n",
        "Please check this frequently asked questions before contacting us"
      ]
    },
    {
      "cell_type": "markdown",
      "metadata": {
        "id": "gWKGE6TulXW5"
      },
      "source": [
        "### Trainable Embeddings\n",
        "\n",
        "You are **free** to define a trainable or non-trainable Embedding layer to load the GloVe embeddings."
      ]
    },
    {
      "cell_type": "markdown",
      "metadata": {
        "id": "z9fDx7hJlXW6"
      },
      "source": [
        "### Model architecture\n",
        "\n",
        "You **should not** change the architecture of a model (i.e., its layers).\n",
        "\n",
        "However, you are **free** to play with their hyperparameters."
      ]
    },
    {
      "cell_type": "markdown",
      "metadata": {
        "id": "hwFc-m_SlXW7"
      },
      "source": [
        "### Neural Libraries\n",
        "\n",
        "You are **free** to use any library of your choice to implement the networks (e.g., Keras, Tensorflow, PyTorch, JAX, etc...)"
      ]
    },
    {
      "cell_type": "markdown",
      "metadata": {
        "id": "Ur3gbIN4lXW8"
      },
      "source": [
        "### Keras TimeDistributed Dense layer\n",
        "\n",
        "If you are using Keras, we recommend wrapping the final Dense layer with `TimeDistributed`."
      ]
    },
    {
      "cell_type": "markdown",
      "metadata": {
        "id": "cvHgGzmblXW9"
      },
      "source": [
        "### Error Analysis\n",
        "\n",
        "Some topics for discussion include:\n",
        "   * Model performance on most/less frequent classes.\n",
        "   * Precision/Recall curves.\n",
        "   * Confusion matrices.\n",
        "   * Specific misclassified samples."
      ]
    },
    {
      "cell_type": "markdown",
      "metadata": {
        "id": "Vsd3AEcmlXW-"
      },
      "source": [
        "### Punctuation\n",
        "\n",
        "**Do not** remove punctuation from documents since it may be helpful to the model.\n",
        "\n",
        "You should **ignore** it during metrics computation.\n",
        "\n",
        "If you are curious, you can run additional experiments to verify the impact of removing punctuation."
      ]
    },
    {
      "cell_type": "markdown",
      "metadata": {
        "id": "fOSO5ofLlXXA"
      },
      "source": [
        "# The End"
      ]
    }
  ],
  "metadata": {
    "accelerator": "GPU",
    "celltoolbar": "Slideshow",
    "colab": {
      "provenance": [],
      "gpuType": "T4",
      "include_colab_link": true
    },
    "kernelspec": {
      "name": "prometeia",
      "language": "python",
      "display_name": "prometeia"
    },
    "language_info": {
      "codemirror_mode": {
        "name": "ipython",
        "version": 3
      },
      "file_extension": ".py",
      "mimetype": "text/x-python",
      "name": "python",
      "nbconvert_exporter": "python",
      "pygments_lexer": "ipython3",
      "version": "3.11.5"
    }
  },
  "nbformat": 4,
  "nbformat_minor": 0
}